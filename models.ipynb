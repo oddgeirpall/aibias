{
 "cells": [
  {
   "cell_type": "code",
   "execution_count": 29,
   "metadata": {},
   "outputs": [],
   "source": [
    "import os\n",
    "import sys\n",
    "\n",
    "import pandas as pd\n",
    "import numpy as np\n",
    "\n",
    "import tensorflow_addons as tfa\n",
    "\n",
    "from tensorflow.keras.models import Sequential\n",
    "from tensorflow.keras.layers import Dense\n",
    "\n",
    "from sklearn.preprocessing import LabelEncoder\n",
    "from sklearn.preprocessing import StandardScaler"
   ]
  },
  {
   "cell_type": "code",
   "execution_count": 2,
   "metadata": {},
   "outputs": [],
   "source": [
    "def vdir(obj):\n",
    "    return [x for x in dir(obj) if not x.startswith('__')]"
   ]
  },
  {
   "cell_type": "code",
   "execution_count": 3,
   "metadata": {},
   "outputs": [],
   "source": [
    "from importlib import reload\n",
    "import aibias"
   ]
  },
  {
   "cell_type": "code",
   "execution_count": 4,
   "metadata": {},
   "outputs": [],
   "source": [
    "df_bank = pd.read_csv('aibias/data/bank-additional/bank-additional-full.csv',sep=';')"
   ]
  },
  {
   "cell_type": "code",
   "execution_count": 5,
   "metadata": {},
   "outputs": [],
   "source": [
    "column_names = ['status', 'month', 'credit_history',\n",
    "            'purpose', 'credit_amount', 'savings', 'employment',\n",
    "            'investment_as_income_percentage', 'personal_status',\n",
    "            'other_debtors', 'residence_since', 'property', 'age',\n",
    "            'installment_plans', 'housing', 'number_of_credits',\n",
    "            'skill_level', 'people_liable_for', 'telephone',\n",
    "            'foreign_worker', 'credit']\n",
    "\n",
    "df_german = pd.read_csv('aibias/data/german/german.data',sep=' ',names=column_names)\n",
    "\n",
    "status_map = {'A91': 'male', 'A93': 'male', 'A94': 'male',\n",
    "                  'A92': 'female', 'A95': 'female'}\n",
    "df_german['sex'] = df_german['personal_status'].replace(status_map)\n",
    "\n",
    "d_german = df_german[['age','sex','credit']]"
   ]
  },
  {
   "cell_type": "code",
   "execution_count": 6,
   "metadata": {},
   "outputs": [],
   "source": [
    "column_names = ['age', 'workclass', 'fnlwgt', 'education',\n",
    "            'education-num', 'marital-status', 'occupation', 'relationship',\n",
    "            'race', 'sex', 'capital-gain', 'capital-loss', 'hours-per-week',\n",
    "            'native-country', 'income-per-year']\n",
    "\n",
    "df_adult = pd.read_csv('aibias/data/adult/adult.data',header=None,names=column_names,\n",
    "                      skipinitialspace=True)\n",
    "\n",
    "d_adult = df_adult[['race','sex','income-per-year']]"
   ]
  },
  {
   "cell_type": "code",
   "execution_count": 159,
   "metadata": {},
   "outputs": [],
   "source": [
    "df_compas = pd.read_csv('aibias/data/compas/compas-scores-two-years.csv')"
   ]
  },
  {
   "cell_type": "code",
   "execution_count": 8,
   "metadata": {},
   "outputs": [],
   "source": [
    "def map_func_pa_bank(values):\n",
    "    if not isinstance(values,np.ndarray):\n",
    "        raise TypeError(\"Protected attributes must be a np.ndarray.\")\n",
    "    \n",
    "    for i, age in enumerate(values):\n",
    "        if int(age) >= 25:\n",
    "            values[i] = 0\n",
    "        else:\n",
    "            values[i] = 1\n",
    "    return values\n",
    "\n",
    "def map_func_lab_bank(values):\n",
    "    if not isinstance(values,np.ndarray):\n",
    "        raise TypeError(\"Labels must be a np.ndarray.\")\n",
    "    \n",
    "    for i, val in enumerate(values):\n",
    "        if val == 'yes':\n",
    "            values[i] = 1\n",
    "        else:\n",
    "            values[i] = 0\n",
    "    return values\n",
    "\n",
    "def map_func_pa_mock(values):\n",
    "    if not isinstance(values,np.ndarray):\n",
    "        raise TypeError(\"Protected attributes must be a np.ndarray.\")\n",
    "    \n",
    "    for i, sex in enumerate(values):\n",
    "        if sex == 'M':\n",
    "            values[i] = 0\n",
    "        else:\n",
    "            values[i] = 1\n",
    "    return values\n",
    "\n",
    "def map_func_lab_mock(values):\n",
    "    if not isinstance(values,np.ndarray):\n",
    "        raise TypeError(\"Labels must be a np.ndarray.\")\n",
    "    \n",
    "    for i, val in enumerate(values):\n",
    "        if val == 'yes':\n",
    "            values[i] = 1\n",
    "        else:\n",
    "            values[i] = 0\n",
    "    return values\n",
    "\n",
    "def map_func_pa_german(values):\n",
    "    \n",
    "    for i, sex in enumerate(values):\n",
    "        if sex == 'male':\n",
    "            values[i] = 0\n",
    "        else:\n",
    "            values[i] = 1\n",
    "    return values\n",
    "\n",
    "def map_func_lab_german(values):\n",
    "    for i, val in enumerate(values):\n",
    "        if int(val) == 1:\n",
    "            values[i] = 1\n",
    "        else:\n",
    "            values[i] = 0\n",
    "    return values\n",
    "\n",
    "def map_func_pa_adult(values):\n",
    "    \n",
    "    for i, race in enumerate(values):\n",
    "        if race == 'White':\n",
    "            values[i] = 0\n",
    "        else:\n",
    "            values[i] = 1\n",
    "    return values\n",
    "\n",
    "def map_func_lab_adult(values):\n",
    "    for i, val in enumerate(values):\n",
    "        if val == '>50K':\n",
    "            values[i] = 1\n",
    "        else:\n",
    "            values[i] = 0\n",
    "    return values\n",
    "\n",
    "def map_func_pa_compas(values):\n",
    "    \n",
    "    for i, race in enumerate(values):\n",
    "        if race == 'Caucasian':\n",
    "            values[i] = 0\n",
    "        else:\n",
    "            values[i] = 1\n",
    "    return values\n",
    "\n",
    "def map_func_lab_compas(values):\n",
    "    for i, val in enumerate(values):\n",
    "        values[i] = 1 - int(val)\n",
    "    return values"
   ]
  },
  {
   "cell_type": "code",
   "execution_count": 9,
   "metadata": {},
   "outputs": [],
   "source": [
    "import aibias.metrics as met\n",
    "import aibias.dataset as dat\n",
    "import aibias.visualization as vis\n",
    "import aibias.algorithms.pre_processing  as pre\n",
    "import aibias.algorithms.in_processing   as inp\n",
    "import aibias.algorithms.post_processing as post"
   ]
  },
  {
   "cell_type": "code",
   "execution_count": 58,
   "metadata": {},
   "outputs": [],
   "source": [
    "reload(aibias.metrics)\n",
    "reload(aibias.dataset)\n",
    "reload(aibias.visualization)\n",
    "reload(aibias.algorithms.pre_processing)\n",
    "reload(aibias.algorithms.in_processing)\n",
    "reload(aibias.algorithms.post_processing)\n",
    "import aibias.metrics as met\n",
    "import aibias.dataset as dat\n",
    "import aibias.dataset as ds\n",
    "import aibias.visualization as vis\n",
    "import aibias.algorithms.pre_processing as pre\n",
    "import aibias.algorithms.post_processing as post"
   ]
  },
  {
   "cell_type": "code",
   "execution_count": 112,
   "metadata": {},
   "outputs": [],
   "source": [
    "cat_features=['job','education','housing','poutcome','marital','contact']\n",
    "train_features = cat_features+['campaign','emp.var.rate','cons.price.idx',\n",
    "                               'cons.conf.idx','euribor3m','age']\n",
    "\n",
    "ds_bank = dat.Dataset(df_bank.copy(),'loan',['age'],map_func_pa=map_func_pa_bank, \n",
    "                      title='bank',map_func_lab=map_func_lab_bank,#pred_name='y',\n",
    "                      categorical_features=cat_features,\n",
    "                      training_features=train_features,\n",
    "                      map_func_pred=map_func_lab_bank)"
   ]
  },
  {
   "cell_type": "code",
   "execution_count": 113,
   "metadata": {
    "collapsed": true
   },
   "outputs": [
    {
     "data": {
      "application/vnd.jupyter.widget-view+json": {
       "model_id": "2f4885b92da1438ea21e2c1deacadbfa",
       "version_major": 2,
       "version_minor": 0
      },
      "text/plain": [
       "HBox(children=(IntProgress(value=0, description='Training', layout=Layout(flex='2'), max=10, style=ProgressSty…"
      ]
     },
     "metadata": {},
     "output_type": "display_data"
    },
    {
     "name": "stdout",
     "output_type": "stream",
     "text": [
      "Epoch 1/10\n"
     ]
    },
    {
     "data": {
      "application/vnd.jupyter.widget-view+json": {
       "model_id": "83b0bfdcd41d4f2c914886205f9c737e",
       "version_major": 2,
       "version_minor": 0
      },
      "text/plain": [
       "HBox(children=(IntProgress(value=0, layout=Layout(flex='2'), max=94), HTML(value='')), layout=Layout(display='…"
      ]
     },
     "metadata": {},
     "output_type": "display_data"
    },
    {
     "name": "stdout",
     "output_type": "stream",
     "text": [
      "Epoch 1/10\n",
      "94/94 [==============================] - ETA: 0s - loss: 0.6926 - accuracy: 0.5270\n",
      "94/94 [==============================] - 1s 14ms/step - loss: 0.6926 - accuracy: 0.5270\n",
      "Epoch 2/10\n"
     ]
    },
    {
     "data": {
      "application/vnd.jupyter.widget-view+json": {
       "model_id": "e536d5b69ccd46b0ac6e4e780510bd24",
       "version_major": 2,
       "version_minor": 0
      },
      "text/plain": [
       "HBox(children=(IntProgress(value=0, layout=Layout(flex='2'), max=94), HTML(value='')), layout=Layout(display='…"
      ]
     },
     "metadata": {},
     "output_type": "display_data"
    },
    {
     "name": "stdout",
     "output_type": "stream",
     "text": [
      "Epoch 2/10\n",
      "91/94 [============================>.] - ETA: 0s - loss: 0.6864 - accuracy: 0.5519\n",
      "94/94 [==============================] - 1s 14ms/step - loss: 0.6866 - accuracy: 0.5508\n",
      "Epoch 3/10\n"
     ]
    },
    {
     "data": {
      "application/vnd.jupyter.widget-view+json": {
       "model_id": "5fc7d59554324b9da151a90cf4af71e2",
       "version_major": 2,
       "version_minor": 0
      },
      "text/plain": [
       "HBox(children=(IntProgress(value=0, layout=Layout(flex='2'), max=94), HTML(value='')), layout=Layout(display='…"
      ]
     },
     "metadata": {},
     "output_type": "display_data"
    },
    {
     "name": "stdout",
     "output_type": "stream",
     "text": [
      "Epoch 3/10\n",
      "94/94 [==============================] - ETA: 0s - loss: 0.6834 - accuracy: 0.5644\n",
      "94/94 [==============================] - 1s 14ms/step - loss: 0.6834 - accuracy: 0.5644\n",
      "Epoch 4/10\n"
     ]
    },
    {
     "data": {
      "application/vnd.jupyter.widget-view+json": {
       "model_id": "e62acce2aac14c1494799b229e41466c",
       "version_major": 2,
       "version_minor": 0
      },
      "text/plain": [
       "HBox(children=(IntProgress(value=0, layout=Layout(flex='2'), max=94), HTML(value='')), layout=Layout(display='…"
      ]
     },
     "metadata": {},
     "output_type": "display_data"
    },
    {
     "name": "stdout",
     "output_type": "stream",
     "text": [
      "Epoch 4/10\n",
      "93/94 [============================>.] - ETA: 0s - loss: 0.6811 - accuracy: 0.5653\n",
      "94/94 [==============================] - 1s 14ms/step - loss: 0.6812 - accuracy: 0.5649\n",
      "Epoch 5/10\n"
     ]
    },
    {
     "data": {
      "application/vnd.jupyter.widget-view+json": {
       "model_id": "25a5832e083a47b0b269e1c9c55ff62d",
       "version_major": 2,
       "version_minor": 0
      },
      "text/plain": [
       "HBox(children=(IntProgress(value=0, layout=Layout(flex='2'), max=94), HTML(value='')), layout=Layout(display='…"
      ]
     },
     "metadata": {},
     "output_type": "display_data"
    },
    {
     "name": "stdout",
     "output_type": "stream",
     "text": [
      "Epoch 5/10\n",
      "94/94 [==============================] - ETA: 0s - loss: 0.6777 - accuracy: 0.5687\n",
      "94/94 [==============================] - 1s 14ms/step - loss: 0.6777 - accuracy: 0.5687\n",
      "Epoch 6/10\n"
     ]
    },
    {
     "data": {
      "application/vnd.jupyter.widget-view+json": {
       "model_id": "65316f61e57844b2a0fddf5a62491a43",
       "version_major": 2,
       "version_minor": 0
      },
      "text/plain": [
       "HBox(children=(IntProgress(value=0, layout=Layout(flex='2'), max=94), HTML(value='')), layout=Layout(display='…"
      ]
     },
     "metadata": {},
     "output_type": "display_data"
    },
    {
     "name": "stdout",
     "output_type": "stream",
     "text": [
      "Epoch 6/10\n",
      "90/94 [===========================>..] - ETA: 0s - loss: 0.6745 - accuracy: 0.5798\n",
      "94/94 [==============================] - 1s 13ms/step - loss: 0.6746 - accuracy: 0.5788\n",
      "Epoch 7/10\n"
     ]
    },
    {
     "data": {
      "application/vnd.jupyter.widget-view+json": {
       "model_id": "1188c118c40343b1ab646e9f0520591f",
       "version_major": 2,
       "version_minor": 0
      },
      "text/plain": [
       "HBox(children=(IntProgress(value=0, layout=Layout(flex='2'), max=94), HTML(value='')), layout=Layout(display='…"
      ]
     },
     "metadata": {},
     "output_type": "display_data"
    },
    {
     "name": "stdout",
     "output_type": "stream",
     "text": [
      "Epoch 7/10\n",
      "91/94 [============================>.] - ETA: 0s - loss: 0.6726 - accuracy: 0.5793\n",
      "94/94 [==============================] - 1s 14ms/step - loss: 0.6730 - accuracy: 0.5779\n",
      "Epoch 8/10\n"
     ]
    },
    {
     "data": {
      "application/vnd.jupyter.widget-view+json": {
       "model_id": "3c511d78965e437ca26aa5d30378d9ee",
       "version_major": 2,
       "version_minor": 0
      },
      "text/plain": [
       "HBox(children=(IntProgress(value=0, layout=Layout(flex='2'), max=94), HTML(value='')), layout=Layout(display='…"
      ]
     },
     "metadata": {},
     "output_type": "display_data"
    },
    {
     "name": "stdout",
     "output_type": "stream",
     "text": [
      "Epoch 8/10\n",
      "94/94 [==============================] - ETA: 0s - loss: 0.6703 - accuracy: 0.5812\n",
      "94/94 [==============================] - 1s 14ms/step - loss: 0.6703 - accuracy: 0.5812\n",
      "Epoch 9/10\n"
     ]
    },
    {
     "data": {
      "application/vnd.jupyter.widget-view+json": {
       "model_id": "8a6b90a777654743ac537668e71087bf",
       "version_major": 2,
       "version_minor": 0
      },
      "text/plain": [
       "HBox(children=(IntProgress(value=0, layout=Layout(flex='2'), max=94), HTML(value='')), layout=Layout(display='…"
      ]
     },
     "metadata": {},
     "output_type": "display_data"
    },
    {
     "name": "stdout",
     "output_type": "stream",
     "text": [
      "Epoch 9/10\n",
      "94/94 [==============================] - ETA: 0s - loss: 0.6679 - accuracy: 0.5908\n",
      "94/94 [==============================] - 1s 13ms/step - loss: 0.6679 - accuracy: 0.5908\n",
      "Epoch 10/10\n"
     ]
    },
    {
     "data": {
      "application/vnd.jupyter.widget-view+json": {
       "model_id": "2c509f463d2943e6860cceea7ccf5fd6",
       "version_major": 2,
       "version_minor": 0
      },
      "text/plain": [
       "HBox(children=(IntProgress(value=0, layout=Layout(flex='2'), max=94), HTML(value='')), layout=Layout(display='…"
      ]
     },
     "metadata": {},
     "output_type": "display_data"
    },
    {
     "name": "stdout",
     "output_type": "stream",
     "text": [
      "Epoch 10/10\n",
      "93/94 [============================>.] - ETA: 0s - loss: 0.6637 - accuracy: 0.5971\n",
      "94/94 [==============================] - 1s 14ms/step - loss: 0.6637 - accuracy: 0.5969\n",
      "\n"
     ]
    },
    {
     "data": {
      "text/plain": [
       "<tensorflow.python.keras.callbacks.History at 0x7ff686937e48>"
      ]
     },
     "execution_count": 113,
     "metadata": {},
     "output_type": "execute_result"
    }
   ],
   "source": [
    "bank_model = simple_model(ds_bank,epochs=10,ntrain=6000)\n",
    "bank_model.fit()"
   ]
  },
  {
   "cell_type": "code",
   "execution_count": 114,
   "metadata": {},
   "outputs": [],
   "source": [
    "b = bank_model.transform()"
   ]
  },
  {
   "cell_type": "code",
   "execution_count": 244,
   "metadata": {},
   "outputs": [],
   "source": [
    "cat_features   = ['workclass','education','marital-status','occupation','relationship','native-country'] \n",
    "train_features = cat_features + ['age','hours-per-week']\n",
    "\n",
    "ds_adult = dat.Dataset(df_adult.copy(),'income-per-year',['race'],\n",
    "                       map_func_pa=map_func_pa_adult, title='adult',\n",
    "                       map_func_lab=map_func_lab_adult,predictions=None,\n",
    "                       categorical_features=cat_features,\n",
    "                       training_features=train_features\n",
    "                      )"
   ]
  },
  {
   "cell_type": "code",
   "execution_count": 121,
   "metadata": {
    "collapsed": true
   },
   "outputs": [
    {
     "data": {
      "application/vnd.jupyter.widget-view+json": {
       "model_id": "e4ff85c4e9354300a0414867693d96d7",
       "version_major": 2,
       "version_minor": 0
      },
      "text/plain": [
       "HBox(children=(IntProgress(value=0, description='Training', layout=Layout(flex='2'), max=10, style=ProgressSty…"
      ]
     },
     "metadata": {},
     "output_type": "display_data"
    },
    {
     "name": "stdout",
     "output_type": "stream",
     "text": [
      "Epoch 1/10\n"
     ]
    },
    {
     "data": {
      "application/vnd.jupyter.widget-view+json": {
       "model_id": "d386d7fc9b544a6b96dbd07d4f7804a9",
       "version_major": 2,
       "version_minor": 0
      },
      "text/plain": [
       "HBox(children=(IntProgress(value=0, layout=Layout(flex='2'), max=110), HTML(value='')), layout=Layout(display=…"
      ]
     },
     "metadata": {},
     "output_type": "display_data"
    },
    {
     "name": "stdout",
     "output_type": "stream",
     "text": [
      "Epoch 1/10\n",
      "109/110 [============================>.] - ETA: 0s - loss: 0.5294 - accuracy: 0.7434\n",
      "110/110 [==============================] - 2s 15ms/step - loss: 0.5292 - accuracy: 0.7437\n",
      "Epoch 2/10\n"
     ]
    },
    {
     "data": {
      "application/vnd.jupyter.widget-view+json": {
       "model_id": "d54f1bbd986246df968d1eedcf26a2e3",
       "version_major": 2,
       "version_minor": 0
      },
      "text/plain": [
       "HBox(children=(IntProgress(value=0, layout=Layout(flex='2'), max=110), HTML(value='')), layout=Layout(display=…"
      ]
     },
     "metadata": {},
     "output_type": "display_data"
    },
    {
     "name": "stdout",
     "output_type": "stream",
     "text": [
      "Epoch 2/10\n",
      "109/110 [============================>.] - ETA: 0s - loss: 0.4722 - accuracy: 0.7827\n",
      "110/110 [==============================] - 2s 14ms/step - loss: 0.4721 - accuracy: 0.7827\n",
      "Epoch 3/10\n"
     ]
    },
    {
     "data": {
      "application/vnd.jupyter.widget-view+json": {
       "model_id": "a98365730da84736bc4a72a01e0fbfb7",
       "version_major": 2,
       "version_minor": 0
      },
      "text/plain": [
       "HBox(children=(IntProgress(value=0, layout=Layout(flex='2'), max=110), HTML(value='')), layout=Layout(display=…"
      ]
     },
     "metadata": {},
     "output_type": "display_data"
    },
    {
     "name": "stdout",
     "output_type": "stream",
     "text": [
      "Epoch 3/10\n",
      "106/110 [===========================>..] - ETA: 0s - loss: 0.4607 - accuracy: 0.7844\n",
      "110/110 [==============================] - 2s 14ms/step - loss: 0.4600 - accuracy: 0.7846\n",
      "Epoch 4/10\n"
     ]
    },
    {
     "data": {
      "application/vnd.jupyter.widget-view+json": {
       "model_id": "d9c8caa0b771449899e0beb362450131",
       "version_major": 2,
       "version_minor": 0
      },
      "text/plain": [
       "HBox(children=(IntProgress(value=0, layout=Layout(flex='2'), max=110), HTML(value='')), layout=Layout(display=…"
      ]
     },
     "metadata": {},
     "output_type": "display_data"
    },
    {
     "name": "stdout",
     "output_type": "stream",
     "text": [
      "Epoch 4/10\n",
      "110/110 [==============================] - ETA: 0s - loss: 0.4558 - accuracy: 0.7853\n",
      "110/110 [==============================] - 2s 14ms/step - loss: 0.4558 - accuracy: 0.7853\n",
      "Epoch 5/10\n"
     ]
    },
    {
     "data": {
      "application/vnd.jupyter.widget-view+json": {
       "model_id": "49dc278b87974c35afcd54ce11f1bb08",
       "version_major": 2,
       "version_minor": 0
      },
      "text/plain": [
       "HBox(children=(IntProgress(value=0, layout=Layout(flex='2'), max=110), HTML(value='')), layout=Layout(display=…"
      ]
     },
     "metadata": {},
     "output_type": "display_data"
    },
    {
     "name": "stdout",
     "output_type": "stream",
     "text": [
      "Epoch 5/10\n",
      "106/110 [===========================>..] - ETA: 0s - loss: 0.4500 - accuracy: 0.7887\n",
      "110/110 [==============================] - 2s 14ms/step - loss: 0.4504 - accuracy: 0.7886\n",
      "Epoch 6/10\n"
     ]
    },
    {
     "data": {
      "application/vnd.jupyter.widget-view+json": {
       "model_id": "0d7690dbd57b4c9d8f4c6b25668e39ad",
       "version_major": 2,
       "version_minor": 0
      },
      "text/plain": [
       "HBox(children=(IntProgress(value=0, layout=Layout(flex='2'), max=110), HTML(value='')), layout=Layout(display=…"
      ]
     },
     "metadata": {},
     "output_type": "display_data"
    },
    {
     "name": "stdout",
     "output_type": "stream",
     "text": [
      "Epoch 6/10\n",
      "107/110 [============================>.] - ETA: 0s - loss: 0.4472 - accuracy: 0.7933\n",
      "110/110 [==============================] - 1s 13ms/step - loss: 0.4472 - accuracy: 0.7934\n",
      "Epoch 7/10\n"
     ]
    },
    {
     "data": {
      "application/vnd.jupyter.widget-view+json": {
       "model_id": "5555aca8e2d1439293c1cc18af04b225",
       "version_major": 2,
       "version_minor": 0
      },
      "text/plain": [
       "HBox(children=(IntProgress(value=0, layout=Layout(flex='2'), max=110), HTML(value='')), layout=Layout(display=…"
      ]
     },
     "metadata": {},
     "output_type": "display_data"
    },
    {
     "name": "stdout",
     "output_type": "stream",
     "text": [
      "Epoch 7/10\n",
      "106/110 [===========================>..] - ETA: 0s - loss: 0.4407 - accuracy: 0.7932\n",
      "110/110 [==============================] - 1s 13ms/step - loss: 0.4418 - accuracy: 0.7926\n",
      "Epoch 8/10\n"
     ]
    },
    {
     "data": {
      "application/vnd.jupyter.widget-view+json": {
       "model_id": "7812e71b8eca4c77a451364dc2dedae9",
       "version_major": 2,
       "version_minor": 0
      },
      "text/plain": [
       "HBox(children=(IntProgress(value=0, layout=Layout(flex='2'), max=110), HTML(value='')), layout=Layout(display=…"
      ]
     },
     "metadata": {},
     "output_type": "display_data"
    },
    {
     "name": "stdout",
     "output_type": "stream",
     "text": [
      "Epoch 8/10\n",
      "110/110 [==============================] - ETA: 0s - loss: 0.4365 - accuracy: 0.7971\n",
      "110/110 [==============================] - 1s 13ms/step - loss: 0.4365 - accuracy: 0.7971\n",
      "Epoch 9/10\n"
     ]
    },
    {
     "data": {
      "application/vnd.jupyter.widget-view+json": {
       "model_id": "1c9409b0385946eeb4ec34daaa1fbf22",
       "version_major": 2,
       "version_minor": 0
      },
      "text/plain": [
       "HBox(children=(IntProgress(value=0, layout=Layout(flex='2'), max=110), HTML(value='')), layout=Layout(display=…"
      ]
     },
     "metadata": {},
     "output_type": "display_data"
    },
    {
     "name": "stdout",
     "output_type": "stream",
     "text": [
      "Epoch 9/10\n",
      "110/110 [==============================] - ETA: 0s - loss: 0.4361 - accuracy: 0.7969\n",
      "110/110 [==============================] - 2s 15ms/step - loss: 0.4361 - accuracy: 0.7969\n",
      "Epoch 10/10\n"
     ]
    },
    {
     "data": {
      "application/vnd.jupyter.widget-view+json": {
       "model_id": "b06a4f2ba9d545dfa16a63f55ef67dcd",
       "version_major": 2,
       "version_minor": 0
      },
      "text/plain": [
       "HBox(children=(IntProgress(value=0, layout=Layout(flex='2'), max=110), HTML(value='')), layout=Layout(display=…"
      ]
     },
     "metadata": {},
     "output_type": "display_data"
    },
    {
     "name": "stdout",
     "output_type": "stream",
     "text": [
      "Epoch 10/10\n",
      "109/110 [============================>.] - ETA: 0s - loss: 0.4325 - accuracy: 0.7981\n",
      "110/110 [==============================] - 2s 14ms/step - loss: 0.4325 - accuracy: 0.7980\n",
      "\n"
     ]
    },
    {
     "data": {
      "text/plain": [
       "<tensorflow.python.keras.callbacks.History at 0x7ff6af7efe80>"
      ]
     },
     "execution_count": 121,
     "metadata": {},
     "output_type": "execute_result"
    }
   ],
   "source": [
    "adult_model = simple_model(ds_adult,epochs=10,ntrain=7000)\n",
    "adult_model.fit()"
   ]
  },
  {
   "cell_type": "code",
   "execution_count": 131,
   "metadata": {},
   "outputs": [],
   "source": [
    "ds_a_class = adult_model.transform()"
   ]
  },
  {
   "cell_type": "code",
   "execution_count": 141,
   "metadata": {
    "collapsed": true
   },
   "outputs": [
    {
     "name": "stdout",
     "output_type": "stream",
     "text": [
      "Reweighing\n",
      "Training\n"
     ]
    },
    {
     "data": {
      "application/vnd.jupyter.widget-view+json": {
       "model_id": "517a500aaf344949a3578e92813aa005",
       "version_major": 2,
       "version_minor": 0
      },
      "text/plain": [
       "HBox(children=(IntProgress(value=0, description='Training', layout=Layout(flex='2'), max=10, style=ProgressSty…"
      ]
     },
     "metadata": {},
     "output_type": "display_data"
    },
    {
     "name": "stdout",
     "output_type": "stream",
     "text": [
      "Epoch 1/10\n"
     ]
    },
    {
     "data": {
      "application/vnd.jupyter.widget-view+json": {
       "model_id": "c84b0150ffc2472f8d8d70cf21091302",
       "version_major": 2,
       "version_minor": 0
      },
      "text/plain": [
       "HBox(children=(IntProgress(value=0, layout=Layout(flex='2'), max=110), HTML(value='')), layout=Layout(display=…"
      ]
     },
     "metadata": {},
     "output_type": "display_data"
    },
    {
     "name": "stdout",
     "output_type": "stream",
     "text": [
      "Epoch 1/10\n",
      "109/110 [============================>.] - ETA: 0s - loss: 0.5300 - accuracy: 0.7433\n",
      "110/110 [==============================] - 2s 15ms/step - loss: 0.5300 - accuracy: 0.7433\n",
      "Epoch 2/10\n"
     ]
    },
    {
     "data": {
      "application/vnd.jupyter.widget-view+json": {
       "model_id": "ae1f4824ca9f42268551cb321ec0ff92",
       "version_major": 2,
       "version_minor": 0
      },
      "text/plain": [
       "HBox(children=(IntProgress(value=0, layout=Layout(flex='2'), max=110), HTML(value='')), layout=Layout(display=…"
      ]
     },
     "metadata": {},
     "output_type": "display_data"
    },
    {
     "name": "stdout",
     "output_type": "stream",
     "text": [
      "Epoch 2/10\n",
      "108/110 [============================>.] - ETA: 0s - loss: 0.4706 - accuracy: 0.7811\n",
      "110/110 [==============================] - 2s 14ms/step - loss: 0.4709 - accuracy: 0.7811\n",
      "Epoch 3/10\n"
     ]
    },
    {
     "data": {
      "application/vnd.jupyter.widget-view+json": {
       "model_id": "a649e3bd048d4268aa8b9bc1d678a597",
       "version_major": 2,
       "version_minor": 0
      },
      "text/plain": [
       "HBox(children=(IntProgress(value=0, layout=Layout(flex='2'), max=110), HTML(value='')), layout=Layout(display=…"
      ]
     },
     "metadata": {},
     "output_type": "display_data"
    },
    {
     "name": "stdout",
     "output_type": "stream",
     "text": [
      "Epoch 3/10\n",
      "110/110 [==============================] - ETA: 0s - loss: 0.4625 - accuracy: 0.7834\n",
      "110/110 [==============================] - 1s 14ms/step - loss: 0.4625 - accuracy: 0.7834\n",
      "Epoch 4/10\n"
     ]
    },
    {
     "data": {
      "application/vnd.jupyter.widget-view+json": {
       "model_id": "dd0ab3c7dd544309b7513f3204dc9794",
       "version_major": 2,
       "version_minor": 0
      },
      "text/plain": [
       "HBox(children=(IntProgress(value=0, layout=Layout(flex='2'), max=110), HTML(value='')), layout=Layout(display=…"
      ]
     },
     "metadata": {},
     "output_type": "display_data"
    },
    {
     "name": "stdout",
     "output_type": "stream",
     "text": [
      "Epoch 4/10\n",
      "109/110 [============================>.] - ETA: 0s - loss: 0.4580 - accuracy: 0.7848\n",
      "110/110 [==============================] - 1s 13ms/step - loss: 0.4580 - accuracy: 0.7848\n",
      "Epoch 5/10\n"
     ]
    },
    {
     "data": {
      "application/vnd.jupyter.widget-view+json": {
       "model_id": "d043485fa04d41f08e60d62b90c23faa",
       "version_major": 2,
       "version_minor": 0
      },
      "text/plain": [
       "HBox(children=(IntProgress(value=0, layout=Layout(flex='2'), max=110), HTML(value='')), layout=Layout(display=…"
      ]
     },
     "metadata": {},
     "output_type": "display_data"
    },
    {
     "name": "stdout",
     "output_type": "stream",
     "text": [
      "Epoch 5/10\n",
      "108/110 [============================>.] - ETA: 0s - loss: 0.4523 - accuracy: 0.7881\n",
      "110/110 [==============================] - 1s 14ms/step - loss: 0.4524 - accuracy: 0.7880\n",
      "Epoch 6/10\n"
     ]
    },
    {
     "data": {
      "application/vnd.jupyter.widget-view+json": {
       "model_id": "d7f1bbce517e45e588d03149eb2f4fc3",
       "version_major": 2,
       "version_minor": 0
      },
      "text/plain": [
       "HBox(children=(IntProgress(value=0, layout=Layout(flex='2'), max=110), HTML(value='')), layout=Layout(display=…"
      ]
     },
     "metadata": {},
     "output_type": "display_data"
    },
    {
     "name": "stdout",
     "output_type": "stream",
     "text": [
      "Epoch 6/10\n",
      "110/110 [==============================] - ETA: 0s - loss: 0.4479 - accuracy: 0.7896\n",
      "110/110 [==============================] - 1s 13ms/step - loss: 0.4479 - accuracy: 0.7896\n",
      "Epoch 7/10\n"
     ]
    },
    {
     "data": {
      "application/vnd.jupyter.widget-view+json": {
       "model_id": "50f55424474045518e17b3b41bc7593b",
       "version_major": 2,
       "version_minor": 0
      },
      "text/plain": [
       "HBox(children=(IntProgress(value=0, layout=Layout(flex='2'), max=110), HTML(value='')), layout=Layout(display=…"
      ]
     },
     "metadata": {},
     "output_type": "display_data"
    },
    {
     "name": "stdout",
     "output_type": "stream",
     "text": [
      "Epoch 7/10\n",
      "107/110 [============================>.] - ETA: 0s - loss: 0.4449 - accuracy: 0.7913\n",
      "110/110 [==============================] - 1s 13ms/step - loss: 0.4449 - accuracy: 0.7909\n",
      "Epoch 8/10\n"
     ]
    },
    {
     "data": {
      "application/vnd.jupyter.widget-view+json": {
       "model_id": "51c60024527c404db48f9aa62bf9f6de",
       "version_major": 2,
       "version_minor": 0
      },
      "text/plain": [
       "HBox(children=(IntProgress(value=0, layout=Layout(flex='2'), max=110), HTML(value='')), layout=Layout(display=…"
      ]
     },
     "metadata": {},
     "output_type": "display_data"
    },
    {
     "name": "stdout",
     "output_type": "stream",
     "text": [
      "Epoch 8/10\n",
      "108/110 [============================>.] - ETA: 0s - loss: 0.4416 - accuracy: 0.7933\n",
      "110/110 [==============================] - 2s 14ms/step - loss: 0.4410 - accuracy: 0.7939\n",
      "Epoch 9/10\n"
     ]
    },
    {
     "data": {
      "application/vnd.jupyter.widget-view+json": {
       "model_id": "cd80379b9e384fd2acfb897264d6546a",
       "version_major": 2,
       "version_minor": 0
      },
      "text/plain": [
       "HBox(children=(IntProgress(value=0, layout=Layout(flex='2'), max=110), HTML(value='')), layout=Layout(display=…"
      ]
     },
     "metadata": {},
     "output_type": "display_data"
    },
    {
     "name": "stdout",
     "output_type": "stream",
     "text": [
      "Epoch 9/10\n",
      "108/110 [============================>.] - ETA: 0s - loss: 0.4401 - accuracy: 0.7941\n",
      "110/110 [==============================] - 2s 14ms/step - loss: 0.4398 - accuracy: 0.7944\n",
      "Epoch 10/10\n"
     ]
    },
    {
     "data": {
      "application/vnd.jupyter.widget-view+json": {
       "model_id": "ae1861d4380744bba660abc2ca8040d4",
       "version_major": 2,
       "version_minor": 0
      },
      "text/plain": [
       "HBox(children=(IntProgress(value=0, layout=Layout(flex='2'), max=110), HTML(value='')), layout=Layout(display=…"
      ]
     },
     "metadata": {},
     "output_type": "display_data"
    },
    {
     "name": "stdout",
     "output_type": "stream",
     "text": [
      "Epoch 10/10\n",
      "107/110 [============================>.] - ETA: 0s - loss: 0.4347 - accuracy: 0.7960\n",
      "110/110 [==============================] - 2s 14ms/step - loss: 0.4348 - accuracy: 0.7961\n",
      "\n"
     ]
    },
    {
     "data": {
      "text/plain": [
       "<tensorflow.python.keras.callbacks.History at 0x7ff6f0aa6828>"
      ]
     },
     "execution_count": 141,
     "metadata": {},
     "output_type": "execute_result"
    }
   ],
   "source": [
    "print('Reweighing')\n",
    "ds_a_rw = pre.Reweigh(ds_adult)\n",
    "print('Training')\n",
    "adult_model_rw = simple_model(ds_a_rw,epochs=10,ntrain=7000)\n",
    "adult_model_rw.fit()"
   ]
  },
  {
   "cell_type": "code",
   "execution_count": 148,
   "metadata": {},
   "outputs": [],
   "source": [
    "ds_a_class_rw = b\n",
    "ds_a_class_rw.title = 'Classifier (reweighed)'"
   ]
  },
  {
   "cell_type": "code",
   "execution_count": 182,
   "metadata": {},
   "outputs": [],
   "source": [
    "ds_a_ro = post.RejectOption(ds_a_class,0.1225)\n",
    "b = ds_a_ro"
   ]
  },
  {
   "cell_type": "code",
   "execution_count": 254,
   "metadata": {
    "collapsed": true
   },
   "outputs": [
    {
     "name": "stdout",
     "output_type": "stream",
     "text": [
      "Preparing data\n",
      "Starting training session\n"
     ]
    },
    {
     "data": {
      "application/vnd.jupyter.widget-view+json": {
       "model_id": "2276343e10c343aaac41487d745b12f1",
       "version_major": 2,
       "version_minor": 0
      },
      "text/plain": [
       "HBox(children=(IntProgress(value=0, description='Training', layout=Layout(flex='2'), max=10, style=ProgressSty…"
      ]
     },
     "metadata": {},
     "output_type": "display_data"
    },
    {
     "name": "stdout",
     "output_type": "stream",
     "text": [
      "Epoch 1/10\n"
     ]
    },
    {
     "data": {
      "application/vnd.jupyter.widget-view+json": {
       "model_id": "6402aad78ba841ff9f941eefb7b23ec1",
       "version_major": 2,
       "version_minor": 0
      },
      "text/plain": [
       "HBox(children=(IntProgress(value=0, layout=Layout(flex='2'), max=94), HTML(value='')), layout=Layout(display='…"
      ]
     },
     "metadata": {},
     "output_type": "display_data"
    },
    {
     "name": "stdout",
     "output_type": "stream",
     "text": [
      "Epoch 1/10\n",
      "94/94 [==============================] - ETA: 0s - loss: -1467.1226 - accuracy: 0.7147\n",
      "94/94 [==============================] - 11s 118ms/step - loss: -1467.1226 - accuracy: 0.7147\n",
      "Epoch 2/10\n"
     ]
    },
    {
     "data": {
      "application/vnd.jupyter.widget-view+json": {
       "model_id": "6299ad8e720647cc91d79c24c1175a46",
       "version_major": 2,
       "version_minor": 0
      },
      "text/plain": [
       "HBox(children=(IntProgress(value=0, layout=Layout(flex='2'), max=94), HTML(value='')), layout=Layout(display='…"
      ]
     },
     "metadata": {},
     "output_type": "display_data"
    },
    {
     "name": "stdout",
     "output_type": "stream",
     "text": [
      "Epoch 2/10\n",
      "94/94 [==============================] - ETA: 0s - loss: -1465.1648 - accuracy: 0.7487\n",
      "94/94 [==============================] - 10s 110ms/step - loss: -1465.1648 - accuracy: 0.7487\n",
      "Epoch 3/10\n"
     ]
    },
    {
     "data": {
      "application/vnd.jupyter.widget-view+json": {
       "model_id": "7456385f82a746d191e786ffa3c25edc",
       "version_major": 2,
       "version_minor": 0
      },
      "text/plain": [
       "HBox(children=(IntProgress(value=0, layout=Layout(flex='2'), max=94), HTML(value='')), layout=Layout(display='…"
      ]
     },
     "metadata": {},
     "output_type": "display_data"
    },
    {
     "name": "stdout",
     "output_type": "stream",
     "text": [
      "Epoch 3/10\n",
      "94/94 [==============================] - ETA: 0s - loss: -1465.7335 - accuracy: 0.7513\n",
      "94/94 [==============================] - 10s 105ms/step - loss: -1465.7335 - accuracy: 0.7513\n",
      "Epoch 4/10\n"
     ]
    },
    {
     "data": {
      "application/vnd.jupyter.widget-view+json": {
       "model_id": "78b8e3c8555d45f69d2739a251632e5f",
       "version_major": 2,
       "version_minor": 0
      },
      "text/plain": [
       "HBox(children=(IntProgress(value=0, layout=Layout(flex='2'), max=94), HTML(value='')), layout=Layout(display='…"
      ]
     },
     "metadata": {},
     "output_type": "display_data"
    },
    {
     "name": "stdout",
     "output_type": "stream",
     "text": [
      "Epoch 4/10\n",
      "94/94 [==============================] - ETA: 0s - loss: -1466.3057 - accuracy: 0.7524\n",
      "94/94 [==============================] - 11s 116ms/step - loss: -1466.3057 - accuracy: 0.7524\n",
      "Epoch 5/10\n"
     ]
    },
    {
     "data": {
      "application/vnd.jupyter.widget-view+json": {
       "model_id": "ee489abb8694487caf57da45112316eb",
       "version_major": 2,
       "version_minor": 0
      },
      "text/plain": [
       "HBox(children=(IntProgress(value=0, layout=Layout(flex='2'), max=94), HTML(value='')), layout=Layout(display='…"
      ]
     },
     "metadata": {},
     "output_type": "display_data"
    },
    {
     "name": "stdout",
     "output_type": "stream",
     "text": [
      "Epoch 5/10\n",
      "94/94 [==============================] - ETA: 0s - loss: -1466.3923 - accuracy: 0.7755\n",
      "94/94 [==============================] - 11s 119ms/step - loss: -1466.3923 - accuracy: 0.7755\n",
      "Epoch 6/10\n"
     ]
    },
    {
     "data": {
      "application/vnd.jupyter.widget-view+json": {
       "model_id": "42891d8f31624dc7be0f6456541779fc",
       "version_major": 2,
       "version_minor": 0
      },
      "text/plain": [
       "HBox(children=(IntProgress(value=0, layout=Layout(flex='2'), max=94), HTML(value='')), layout=Layout(display='…"
      ]
     },
     "metadata": {},
     "output_type": "display_data"
    },
    {
     "name": "stdout",
     "output_type": "stream",
     "text": [
      "Epoch 6/10\n",
      "94/94 [==============================] - ETA: 0s - loss: -1466.3225 - accuracy: 0.7872\n",
      "94/94 [==============================] - 14s 153ms/step - loss: -1466.3225 - accuracy: 0.7872\n",
      "Epoch 7/10\n"
     ]
    },
    {
     "data": {
      "application/vnd.jupyter.widget-view+json": {
       "model_id": "1304a1b4330442f58f47e79d01ad37a3",
       "version_major": 2,
       "version_minor": 0
      },
      "text/plain": [
       "HBox(children=(IntProgress(value=0, layout=Layout(flex='2'), max=94), HTML(value='')), layout=Layout(display='…"
      ]
     },
     "metadata": {},
     "output_type": "display_data"
    },
    {
     "name": "stdout",
     "output_type": "stream",
     "text": [
      "Epoch 7/10\n",
      "94/94 [==============================] - ETA: 0s - loss: -1465.9618 - accuracy: 0.7883\n",
      "94/94 [==============================] - 10s 110ms/step - loss: -1465.9618 - accuracy: 0.7883\n",
      "Epoch 8/10\n"
     ]
    },
    {
     "data": {
      "application/vnd.jupyter.widget-view+json": {
       "model_id": "d0476478bd5a4a40887fa18459d99e76",
       "version_major": 2,
       "version_minor": 0
      },
      "text/plain": [
       "HBox(children=(IntProgress(value=0, layout=Layout(flex='2'), max=94), HTML(value='')), layout=Layout(display='…"
      ]
     },
     "metadata": {},
     "output_type": "display_data"
    },
    {
     "name": "stdout",
     "output_type": "stream",
     "text": [
      "Epoch 8/10\n",
      "94/94 [==============================] - ETA: 0s - loss: -1465.6145 - accuracy: 0.7892\n",
      "94/94 [==============================] - 10s 107ms/step - loss: -1465.6145 - accuracy: 0.7892\n",
      "Epoch 9/10\n"
     ]
    },
    {
     "data": {
      "application/vnd.jupyter.widget-view+json": {
       "model_id": "fe360057af0640b6b274af7456e55a1e",
       "version_major": 2,
       "version_minor": 0
      },
      "text/plain": [
       "HBox(children=(IntProgress(value=0, layout=Layout(flex='2'), max=94), HTML(value='')), layout=Layout(display='…"
      ]
     },
     "metadata": {},
     "output_type": "display_data"
    },
    {
     "name": "stdout",
     "output_type": "stream",
     "text": [
      "Epoch 9/10\n",
      "94/94 [==============================] - ETA: 0s - loss: -1465.0063 - accuracy: 0.7912\n",
      "94/94 [==============================] - 10s 102ms/step - loss: -1465.0063 - accuracy: 0.7912\n",
      "Epoch 10/10\n"
     ]
    },
    {
     "data": {
      "application/vnd.jupyter.widget-view+json": {
       "model_id": "2c6ad9225cee4c858516aa581a8fe866",
       "version_major": 2,
       "version_minor": 0
      },
      "text/plain": [
       "HBox(children=(IntProgress(value=0, layout=Layout(flex='2'), max=94), HTML(value='')), layout=Layout(display='…"
      ]
     },
     "metadata": {},
     "output_type": "display_data"
    },
    {
     "name": "stdout",
     "output_type": "stream",
     "text": [
      "Epoch 10/10\n",
      "94/94 [==============================] - ETA: 0s - loss: -1464.5151 - accuracy: 0.7929\n",
      "94/94 [==============================] - 10s 106ms/step - loss: -1464.5151 - accuracy: 0.7929\n",
      "\n"
     ]
    }
   ],
   "source": [
    "ds_a_pr = inp.PrejudiceRemover(ds_adult,epochs=10,eta=0.5)\n",
    "b = ds_a_pr"
   ]
  },
  {
   "cell_type": "code",
   "execution_count": 22,
   "metadata": {
    "collapsed": true
   },
   "outputs": [
    {
     "data": {
      "text/html": [
       "<div>\n",
       "<style scoped>\n",
       "    .dataframe tbody tr th:only-of-type {\n",
       "        vertical-align: middle;\n",
       "    }\n",
       "\n",
       "    .dataframe tbody tr th {\n",
       "        vertical-align: top;\n",
       "    }\n",
       "\n",
       "    .dataframe thead th {\n",
       "        text-align: right;\n",
       "    }\n",
       "</style>\n",
       "<table border=\"1\" class=\"dataframe\">\n",
       "  <thead>\n",
       "    <tr style=\"text-align: right;\">\n",
       "      <th></th>\n",
       "      <th>status</th>\n",
       "      <th>month</th>\n",
       "      <th>credit_history</th>\n",
       "      <th>purpose</th>\n",
       "      <th>credit_amount</th>\n",
       "      <th>savings</th>\n",
       "      <th>employment</th>\n",
       "      <th>investment_as_income_percentage</th>\n",
       "      <th>personal_status</th>\n",
       "      <th>other_debtors</th>\n",
       "      <th>...</th>\n",
       "      <th>age</th>\n",
       "      <th>installment_plans</th>\n",
       "      <th>housing</th>\n",
       "      <th>number_of_credits</th>\n",
       "      <th>skill_level</th>\n",
       "      <th>people_liable_for</th>\n",
       "      <th>telephone</th>\n",
       "      <th>foreign_worker</th>\n",
       "      <th>credit</th>\n",
       "      <th>sex</th>\n",
       "    </tr>\n",
       "  </thead>\n",
       "  <tbody>\n",
       "    <tr>\n",
       "      <th>0</th>\n",
       "      <td>A11</td>\n",
       "      <td>6</td>\n",
       "      <td>A34</td>\n",
       "      <td>A43</td>\n",
       "      <td>1169</td>\n",
       "      <td>A65</td>\n",
       "      <td>A75</td>\n",
       "      <td>4</td>\n",
       "      <td>A93</td>\n",
       "      <td>A101</td>\n",
       "      <td>...</td>\n",
       "      <td>67</td>\n",
       "      <td>A143</td>\n",
       "      <td>A152</td>\n",
       "      <td>2</td>\n",
       "      <td>A173</td>\n",
       "      <td>1</td>\n",
       "      <td>A192</td>\n",
       "      <td>A201</td>\n",
       "      <td>1</td>\n",
       "      <td>male</td>\n",
       "    </tr>\n",
       "    <tr>\n",
       "      <th>1</th>\n",
       "      <td>A12</td>\n",
       "      <td>48</td>\n",
       "      <td>A32</td>\n",
       "      <td>A43</td>\n",
       "      <td>5951</td>\n",
       "      <td>A61</td>\n",
       "      <td>A73</td>\n",
       "      <td>2</td>\n",
       "      <td>A92</td>\n",
       "      <td>A101</td>\n",
       "      <td>...</td>\n",
       "      <td>22</td>\n",
       "      <td>A143</td>\n",
       "      <td>A152</td>\n",
       "      <td>1</td>\n",
       "      <td>A173</td>\n",
       "      <td>1</td>\n",
       "      <td>A191</td>\n",
       "      <td>A201</td>\n",
       "      <td>2</td>\n",
       "      <td>female</td>\n",
       "    </tr>\n",
       "    <tr>\n",
       "      <th>2</th>\n",
       "      <td>A14</td>\n",
       "      <td>12</td>\n",
       "      <td>A34</td>\n",
       "      <td>A46</td>\n",
       "      <td>2096</td>\n",
       "      <td>A61</td>\n",
       "      <td>A74</td>\n",
       "      <td>2</td>\n",
       "      <td>A93</td>\n",
       "      <td>A101</td>\n",
       "      <td>...</td>\n",
       "      <td>49</td>\n",
       "      <td>A143</td>\n",
       "      <td>A152</td>\n",
       "      <td>1</td>\n",
       "      <td>A172</td>\n",
       "      <td>2</td>\n",
       "      <td>A191</td>\n",
       "      <td>A201</td>\n",
       "      <td>1</td>\n",
       "      <td>male</td>\n",
       "    </tr>\n",
       "    <tr>\n",
       "      <th>3</th>\n",
       "      <td>A11</td>\n",
       "      <td>42</td>\n",
       "      <td>A32</td>\n",
       "      <td>A42</td>\n",
       "      <td>7882</td>\n",
       "      <td>A61</td>\n",
       "      <td>A74</td>\n",
       "      <td>2</td>\n",
       "      <td>A93</td>\n",
       "      <td>A103</td>\n",
       "      <td>...</td>\n",
       "      <td>45</td>\n",
       "      <td>A143</td>\n",
       "      <td>A153</td>\n",
       "      <td>1</td>\n",
       "      <td>A173</td>\n",
       "      <td>2</td>\n",
       "      <td>A191</td>\n",
       "      <td>A201</td>\n",
       "      <td>1</td>\n",
       "      <td>male</td>\n",
       "    </tr>\n",
       "    <tr>\n",
       "      <th>4</th>\n",
       "      <td>A11</td>\n",
       "      <td>24</td>\n",
       "      <td>A33</td>\n",
       "      <td>A40</td>\n",
       "      <td>4870</td>\n",
       "      <td>A61</td>\n",
       "      <td>A73</td>\n",
       "      <td>3</td>\n",
       "      <td>A93</td>\n",
       "      <td>A101</td>\n",
       "      <td>...</td>\n",
       "      <td>53</td>\n",
       "      <td>A143</td>\n",
       "      <td>A153</td>\n",
       "      <td>2</td>\n",
       "      <td>A173</td>\n",
       "      <td>2</td>\n",
       "      <td>A191</td>\n",
       "      <td>A201</td>\n",
       "      <td>2</td>\n",
       "      <td>male</td>\n",
       "    </tr>\n",
       "    <tr>\n",
       "      <th>...</th>\n",
       "      <td>...</td>\n",
       "      <td>...</td>\n",
       "      <td>...</td>\n",
       "      <td>...</td>\n",
       "      <td>...</td>\n",
       "      <td>...</td>\n",
       "      <td>...</td>\n",
       "      <td>...</td>\n",
       "      <td>...</td>\n",
       "      <td>...</td>\n",
       "      <td>...</td>\n",
       "      <td>...</td>\n",
       "      <td>...</td>\n",
       "      <td>...</td>\n",
       "      <td>...</td>\n",
       "      <td>...</td>\n",
       "      <td>...</td>\n",
       "      <td>...</td>\n",
       "      <td>...</td>\n",
       "      <td>...</td>\n",
       "      <td>...</td>\n",
       "    </tr>\n",
       "    <tr>\n",
       "      <th>995</th>\n",
       "      <td>A14</td>\n",
       "      <td>12</td>\n",
       "      <td>A32</td>\n",
       "      <td>A42</td>\n",
       "      <td>1736</td>\n",
       "      <td>A61</td>\n",
       "      <td>A74</td>\n",
       "      <td>3</td>\n",
       "      <td>A92</td>\n",
       "      <td>A101</td>\n",
       "      <td>...</td>\n",
       "      <td>31</td>\n",
       "      <td>A143</td>\n",
       "      <td>A152</td>\n",
       "      <td>1</td>\n",
       "      <td>A172</td>\n",
       "      <td>1</td>\n",
       "      <td>A191</td>\n",
       "      <td>A201</td>\n",
       "      <td>1</td>\n",
       "      <td>female</td>\n",
       "    </tr>\n",
       "    <tr>\n",
       "      <th>996</th>\n",
       "      <td>A11</td>\n",
       "      <td>30</td>\n",
       "      <td>A32</td>\n",
       "      <td>A41</td>\n",
       "      <td>3857</td>\n",
       "      <td>A61</td>\n",
       "      <td>A73</td>\n",
       "      <td>4</td>\n",
       "      <td>A91</td>\n",
       "      <td>A101</td>\n",
       "      <td>...</td>\n",
       "      <td>40</td>\n",
       "      <td>A143</td>\n",
       "      <td>A152</td>\n",
       "      <td>1</td>\n",
       "      <td>A174</td>\n",
       "      <td>1</td>\n",
       "      <td>A192</td>\n",
       "      <td>A201</td>\n",
       "      <td>1</td>\n",
       "      <td>male</td>\n",
       "    </tr>\n",
       "    <tr>\n",
       "      <th>997</th>\n",
       "      <td>A14</td>\n",
       "      <td>12</td>\n",
       "      <td>A32</td>\n",
       "      <td>A43</td>\n",
       "      <td>804</td>\n",
       "      <td>A61</td>\n",
       "      <td>A75</td>\n",
       "      <td>4</td>\n",
       "      <td>A93</td>\n",
       "      <td>A101</td>\n",
       "      <td>...</td>\n",
       "      <td>38</td>\n",
       "      <td>A143</td>\n",
       "      <td>A152</td>\n",
       "      <td>1</td>\n",
       "      <td>A173</td>\n",
       "      <td>1</td>\n",
       "      <td>A191</td>\n",
       "      <td>A201</td>\n",
       "      <td>1</td>\n",
       "      <td>male</td>\n",
       "    </tr>\n",
       "    <tr>\n",
       "      <th>998</th>\n",
       "      <td>A11</td>\n",
       "      <td>45</td>\n",
       "      <td>A32</td>\n",
       "      <td>A43</td>\n",
       "      <td>1845</td>\n",
       "      <td>A61</td>\n",
       "      <td>A73</td>\n",
       "      <td>4</td>\n",
       "      <td>A93</td>\n",
       "      <td>A101</td>\n",
       "      <td>...</td>\n",
       "      <td>23</td>\n",
       "      <td>A143</td>\n",
       "      <td>A153</td>\n",
       "      <td>1</td>\n",
       "      <td>A173</td>\n",
       "      <td>1</td>\n",
       "      <td>A192</td>\n",
       "      <td>A201</td>\n",
       "      <td>2</td>\n",
       "      <td>male</td>\n",
       "    </tr>\n",
       "    <tr>\n",
       "      <th>999</th>\n",
       "      <td>A12</td>\n",
       "      <td>45</td>\n",
       "      <td>A34</td>\n",
       "      <td>A41</td>\n",
       "      <td>4576</td>\n",
       "      <td>A62</td>\n",
       "      <td>A71</td>\n",
       "      <td>3</td>\n",
       "      <td>A93</td>\n",
       "      <td>A101</td>\n",
       "      <td>...</td>\n",
       "      <td>27</td>\n",
       "      <td>A143</td>\n",
       "      <td>A152</td>\n",
       "      <td>1</td>\n",
       "      <td>A173</td>\n",
       "      <td>1</td>\n",
       "      <td>A191</td>\n",
       "      <td>A201</td>\n",
       "      <td>1</td>\n",
       "      <td>male</td>\n",
       "    </tr>\n",
       "  </tbody>\n",
       "</table>\n",
       "<p>1000 rows × 22 columns</p>\n",
       "</div>"
      ],
      "text/plain": [
       "    status  month credit_history purpose  credit_amount savings employment  \\\n",
       "0      A11      6            A34     A43           1169     A65        A75   \n",
       "1      A12     48            A32     A43           5951     A61        A73   \n",
       "2      A14     12            A34     A46           2096     A61        A74   \n",
       "3      A11     42            A32     A42           7882     A61        A74   \n",
       "4      A11     24            A33     A40           4870     A61        A73   \n",
       "..     ...    ...            ...     ...            ...     ...        ...   \n",
       "995    A14     12            A32     A42           1736     A61        A74   \n",
       "996    A11     30            A32     A41           3857     A61        A73   \n",
       "997    A14     12            A32     A43            804     A61        A75   \n",
       "998    A11     45            A32     A43           1845     A61        A73   \n",
       "999    A12     45            A34     A41           4576     A62        A71   \n",
       "\n",
       "     investment_as_income_percentage personal_status other_debtors  ...  age  \\\n",
       "0                                  4             A93          A101  ...   67   \n",
       "1                                  2             A92          A101  ...   22   \n",
       "2                                  2             A93          A101  ...   49   \n",
       "3                                  2             A93          A103  ...   45   \n",
       "4                                  3             A93          A101  ...   53   \n",
       "..                               ...             ...           ...  ...  ...   \n",
       "995                                3             A92          A101  ...   31   \n",
       "996                                4             A91          A101  ...   40   \n",
       "997                                4             A93          A101  ...   38   \n",
       "998                                4             A93          A101  ...   23   \n",
       "999                                3             A93          A101  ...   27   \n",
       "\n",
       "    installment_plans  housing number_of_credits skill_level  \\\n",
       "0                A143     A152                 2        A173   \n",
       "1                A143     A152                 1        A173   \n",
       "2                A143     A152                 1        A172   \n",
       "3                A143     A153                 1        A173   \n",
       "4                A143     A153                 2        A173   \n",
       "..                ...      ...               ...         ...   \n",
       "995              A143     A152                 1        A172   \n",
       "996              A143     A152                 1        A174   \n",
       "997              A143     A152                 1        A173   \n",
       "998              A143     A153                 1        A173   \n",
       "999              A143     A152                 1        A173   \n",
       "\n",
       "     people_liable_for telephone  foreign_worker credit     sex  \n",
       "0                    1      A192            A201      1    male  \n",
       "1                    1      A191            A201      2  female  \n",
       "2                    2      A191            A201      1    male  \n",
       "3                    2      A191            A201      1    male  \n",
       "4                    2      A191            A201      2    male  \n",
       "..                 ...       ...             ...    ...     ...  \n",
       "995                  1      A191            A201      1  female  \n",
       "996                  1      A192            A201      1    male  \n",
       "997                  1      A191            A201      1    male  \n",
       "998                  1      A192            A201      2    male  \n",
       "999                  1      A191            A201      1    male  \n",
       "\n",
       "[1000 rows x 22 columns]"
      ]
     },
     "execution_count": 22,
     "metadata": {},
     "output_type": "execute_result"
    }
   ],
   "source": [
    "df_german"
   ]
  },
  {
   "cell_type": "code",
   "execution_count": 25,
   "metadata": {},
   "outputs": [],
   "source": [
    "cat_features = ['status','credit_history','purpose','savings','employment','housing','skill_level','sex']\n",
    "train_features = cat_features + ['month','credit_amount','investment_as_income_percentage','age']\n",
    "\n",
    "\n",
    "ds_german = dat.Dataset(df_german.copy(),'credit',['sex'],map_func_pa=map_func_pa_german, title='german',\n",
    "                        map_func_lab=map_func_lab_german,\n",
    "                        categorical_features=cat_features,\n",
    "                        training_features=train_features)"
   ]
  },
  {
   "cell_type": "code",
   "execution_count": 49,
   "metadata": {
    "collapsed": true
   },
   "outputs": [
    {
     "data": {
      "application/vnd.jupyter.widget-view+json": {
       "model_id": "d1c6436237104f4eaca9995146acc63d",
       "version_major": 2,
       "version_minor": 0
      },
      "text/plain": [
       "HBox(children=(IntProgress(value=0, description='Training', layout=Layout(flex='2'), max=10, style=ProgressSty…"
      ]
     },
     "metadata": {},
     "output_type": "display_data"
    },
    {
     "name": "stdout",
     "output_type": "stream",
     "text": [
      "Epoch 1/10\n"
     ]
    },
    {
     "data": {
      "application/vnd.jupyter.widget-view+json": {
       "model_id": "2c92c5e30cfe42f3ba2f94cd33bc1cae",
       "version_major": 2,
       "version_minor": 0
      },
      "text/plain": [
       "HBox(children=(IntProgress(value=0, layout=Layout(flex='2'), max=150), HTML(value='')), layout=Layout(display=…"
      ]
     },
     "metadata": {},
     "output_type": "display_data"
    },
    {
     "name": "stdout",
     "output_type": "stream",
     "text": [
      "Epoch 1/10\n",
      "149/150 [============================>.] - ETA: 0s - loss: 0.6082 - accuracy: 0.6812\n",
      "150/150 [==============================] - 2s 13ms/step - loss: 0.6056 - accuracy: 0.6833\n",
      "Epoch 2/10\n"
     ]
    },
    {
     "data": {
      "application/vnd.jupyter.widget-view+json": {
       "model_id": "b7ab1b5f78ab4ea893671050f9d6638c",
       "version_major": 2,
       "version_minor": 0
      },
      "text/plain": [
       "HBox(children=(IntProgress(value=0, layout=Layout(flex='2'), max=150), HTML(value='')), layout=Layout(display=…"
      ]
     },
     "metadata": {},
     "output_type": "display_data"
    },
    {
     "name": "stdout",
     "output_type": "stream",
     "text": [
      "Epoch 2/10\n",
      "148/150 [============================>.] - ETA: 0s - loss: 0.5226 - accuracy: 0.7449\n",
      "150/150 [==============================] - 2s 12ms/step - loss: 0.5234 - accuracy: 0.7450\n",
      "Epoch 3/10\n"
     ]
    },
    {
     "data": {
      "application/vnd.jupyter.widget-view+json": {
       "model_id": "76bd0d732cfe410da5361d7da77ddc67",
       "version_major": 2,
       "version_minor": 0
      },
      "text/plain": [
       "HBox(children=(IntProgress(value=0, layout=Layout(flex='2'), max=150), HTML(value='')), layout=Layout(display=…"
      ]
     },
     "metadata": {},
     "output_type": "display_data"
    },
    {
     "name": "stdout",
     "output_type": "stream",
     "text": [
      "Epoch 3/10\n",
      "148/150 [============================>.] - ETA: 0s - loss: 0.4758 - accuracy: 0.7889\n",
      "150/150 [==============================] - 2s 12ms/step - loss: 0.4752 - accuracy: 0.7883\n",
      "Epoch 4/10\n"
     ]
    },
    {
     "data": {
      "application/vnd.jupyter.widget-view+json": {
       "model_id": "21e1cd9df8ac498dad973b8db7bdc69a",
       "version_major": 2,
       "version_minor": 0
      },
      "text/plain": [
       "HBox(children=(IntProgress(value=0, layout=Layout(flex='2'), max=150), HTML(value='')), layout=Layout(display=…"
      ]
     },
     "metadata": {},
     "output_type": "display_data"
    },
    {
     "name": "stdout",
     "output_type": "stream",
     "text": [
      "Epoch 4/10\n",
      "148/150 [============================>.] - ETA: 0s - loss: 0.4420 - accuracy: 0.8057\n",
      "150/150 [==============================] - 2s 13ms/step - loss: 0.4412 - accuracy: 0.8067\n",
      "Epoch 5/10\n"
     ]
    },
    {
     "data": {
      "application/vnd.jupyter.widget-view+json": {
       "model_id": "a0ce6e725a674b709f6bedcc12b44172",
       "version_major": 2,
       "version_minor": 0
      },
      "text/plain": [
       "HBox(children=(IntProgress(value=0, layout=Layout(flex='2'), max=150), HTML(value='')), layout=Layout(display=…"
      ]
     },
     "metadata": {},
     "output_type": "display_data"
    },
    {
     "name": "stdout",
     "output_type": "stream",
     "text": [
      "Epoch 5/10\n",
      "150/150 [==============================] - ETA: 0s - loss: 0.3994 - accuracy: 0.8167\n",
      "150/150 [==============================] - 2s 13ms/step - loss: 0.3994 - accuracy: 0.8167\n",
      "Epoch 6/10\n"
     ]
    },
    {
     "data": {
      "application/vnd.jupyter.widget-view+json": {
       "model_id": "5c83f4a9b17c4f6f8a5eeb1380947d92",
       "version_major": 2,
       "version_minor": 0
      },
      "text/plain": [
       "HBox(children=(IntProgress(value=0, layout=Layout(flex='2'), max=150), HTML(value='')), layout=Layout(display=…"
      ]
     },
     "metadata": {},
     "output_type": "display_data"
    },
    {
     "name": "stdout",
     "output_type": "stream",
     "text": [
      "Epoch 6/10\n",
      "147/150 [============================>.] - ETA: 0s - loss: 0.3613 - accuracy: 0.8486\n",
      "150/150 [==============================] - 2s 13ms/step - loss: 0.3586 - accuracy: 0.8517\n",
      "Epoch 7/10\n"
     ]
    },
    {
     "data": {
      "application/vnd.jupyter.widget-view+json": {
       "model_id": "6c794f3b0a854a4aa8c5db2daabbd917",
       "version_major": 2,
       "version_minor": 0
      },
      "text/plain": [
       "HBox(children=(IntProgress(value=0, layout=Layout(flex='2'), max=150), HTML(value='')), layout=Layout(display=…"
      ]
     },
     "metadata": {},
     "output_type": "display_data"
    },
    {
     "name": "stdout",
     "output_type": "stream",
     "text": [
      "Epoch 7/10\n",
      "150/150 [==============================] - ETA: 0s - loss: 0.3207 - accuracy: 0.8700\n",
      "150/150 [==============================] - 2s 13ms/step - loss: 0.3207 - accuracy: 0.8700\n",
      "Epoch 8/10\n"
     ]
    },
    {
     "data": {
      "application/vnd.jupyter.widget-view+json": {
       "model_id": "33220d199b804f7d81ad38fff4c08d08",
       "version_major": 2,
       "version_minor": 0
      },
      "text/plain": [
       "HBox(children=(IntProgress(value=0, layout=Layout(flex='2'), max=150), HTML(value='')), layout=Layout(display=…"
      ]
     },
     "metadata": {},
     "output_type": "display_data"
    },
    {
     "name": "stdout",
     "output_type": "stream",
     "text": [
      "Epoch 8/10\n",
      "149/150 [============================>.] - ETA: 0s - loss: 0.2985 - accuracy: 0.8809\n",
      "150/150 [==============================] - 2s 13ms/step - loss: 0.2991 - accuracy: 0.8800\n",
      "Epoch 9/10\n"
     ]
    },
    {
     "data": {
      "application/vnd.jupyter.widget-view+json": {
       "model_id": "249b71ea7cdc41dbb8a834ff9e2958f8",
       "version_major": 2,
       "version_minor": 0
      },
      "text/plain": [
       "HBox(children=(IntProgress(value=0, layout=Layout(flex='2'), max=150), HTML(value='')), layout=Layout(display=…"
      ]
     },
     "metadata": {},
     "output_type": "display_data"
    },
    {
     "name": "stdout",
     "output_type": "stream",
     "text": [
      "Epoch 9/10\n",
      "146/150 [============================>.] - ETA: 0s - loss: 0.2564 - accuracy: 0.9007\n",
      "150/150 [==============================] - 2s 12ms/step - loss: 0.2582 - accuracy: 0.9000\n",
      "Epoch 10/10\n"
     ]
    },
    {
     "data": {
      "application/vnd.jupyter.widget-view+json": {
       "model_id": "5edee5233e6944ea9799664beabec8da",
       "version_major": 2,
       "version_minor": 0
      },
      "text/plain": [
       "HBox(children=(IntProgress(value=0, layout=Layout(flex='2'), max=150), HTML(value='')), layout=Layout(display=…"
      ]
     },
     "metadata": {},
     "output_type": "display_data"
    },
    {
     "name": "stdout",
     "output_type": "stream",
     "text": [
      "Epoch 10/10\n",
      "149/150 [============================>.] - ETA: 0s - loss: 0.2182 - accuracy: 0.9262\n",
      "150/150 [==============================] - 2s 13ms/step - loss: 0.2173 - accuracy: 0.9267\n",
      "\n"
     ]
    },
    {
     "data": {
      "text/plain": [
       "<tensorflow.python.keras.callbacks.History at 0x7fbb5c1827f0>"
      ]
     },
     "execution_count": 49,
     "metadata": {},
     "output_type": "execute_result"
    }
   ],
   "source": [
    "german_model = simple_model(ds_german,epochs=10,ntrain=300,batch_size=4)\n",
    "german_model.fit()"
   ]
  },
  {
   "cell_type": "code",
   "execution_count": 52,
   "metadata": {},
   "outputs": [],
   "source": [
    "ds_g_class = german_model.transform()"
   ]
  },
  {
   "cell_type": "code",
   "execution_count": 36,
   "metadata": {
    "collapsed": true
   },
   "outputs": [
    {
     "data": {
      "application/vnd.jupyter.widget-view+json": {
       "model_id": "343f1ab6a42a4f2e93d62b5970254601",
       "version_major": 2,
       "version_minor": 0
      },
      "text/plain": [
       "HBox(children=(IntProgress(value=0, description='Training', layout=Layout(flex='2'), max=10, style=ProgressSty…"
      ]
     },
     "metadata": {},
     "output_type": "display_data"
    },
    {
     "name": "stdout",
     "output_type": "stream",
     "text": [
      "Epoch 1/10\n"
     ]
    },
    {
     "data": {
      "application/vnd.jupyter.widget-view+json": {
       "model_id": "0a57339de6334eaa92a92105c18a6f5a",
       "version_major": 2,
       "version_minor": 0
      },
      "text/plain": [
       "HBox(children=(IntProgress(value=0, layout=Layout(flex='2'), max=150), HTML(value='')), layout=Layout(display=…"
      ]
     },
     "metadata": {},
     "output_type": "display_data"
    },
    {
     "name": "stdout",
     "output_type": "stream",
     "text": [
      "Epoch 1/10\n",
      "147/150 [============================>.] - ETA: 0s - loss: 0.6220 - accuracy: 0.6599\n",
      "150/150 [==============================] - 2s 13ms/step - loss: 0.6223 - accuracy: 0.6617\n",
      "Epoch 2/10\n"
     ]
    },
    {
     "data": {
      "application/vnd.jupyter.widget-view+json": {
       "model_id": "70f2c0147a5c41f697fc3207f5d1a5c3",
       "version_major": 2,
       "version_minor": 0
      },
      "text/plain": [
       "HBox(children=(IntProgress(value=0, layout=Layout(flex='2'), max=150), HTML(value='')), layout=Layout(display=…"
      ]
     },
     "metadata": {},
     "output_type": "display_data"
    },
    {
     "name": "stdout",
     "output_type": "stream",
     "text": [
      "Epoch 2/10\n",
      "147/150 [============================>.] - ETA: 0s - loss: 0.5349 - accuracy: 0.7432\n",
      "150/150 [==============================] - 2s 12ms/step - loss: 0.5330 - accuracy: 0.7417\n",
      "Epoch 3/10\n"
     ]
    },
    {
     "data": {
      "application/vnd.jupyter.widget-view+json": {
       "model_id": "9f1e1255f00c4a6284171a9ce86fdf00",
       "version_major": 2,
       "version_minor": 0
      },
      "text/plain": [
       "HBox(children=(IntProgress(value=0, layout=Layout(flex='2'), max=150), HTML(value='')), layout=Layout(display=…"
      ]
     },
     "metadata": {},
     "output_type": "display_data"
    },
    {
     "name": "stdout",
     "output_type": "stream",
     "text": [
      "Epoch 3/10\n",
      "146/150 [============================>.] - ETA: 0s - loss: 0.4910 - accuracy: 0.7603\n",
      "150/150 [==============================] - 2s 12ms/step - loss: 0.4923 - accuracy: 0.7567\n",
      "Epoch 4/10\n"
     ]
    },
    {
     "data": {
      "application/vnd.jupyter.widget-view+json": {
       "model_id": "3c39ff3e2e4f41e09213e879ea3b42e3",
       "version_major": 2,
       "version_minor": 0
      },
      "text/plain": [
       "HBox(children=(IntProgress(value=0, layout=Layout(flex='2'), max=150), HTML(value='')), layout=Layout(display=…"
      ]
     },
     "metadata": {},
     "output_type": "display_data"
    },
    {
     "name": "stdout",
     "output_type": "stream",
     "text": [
      "Epoch 4/10\n",
      "148/150 [============================>.] - ETA: 0s - loss: 0.4444 - accuracy: 0.7956\n",
      "150/150 [==============================] - 2s 12ms/step - loss: 0.4450 - accuracy: 0.7950\n",
      "Epoch 5/10\n"
     ]
    },
    {
     "data": {
      "application/vnd.jupyter.widget-view+json": {
       "model_id": "df1358747cf64710befc76bdbdc5f6ad",
       "version_major": 2,
       "version_minor": 0
      },
      "text/plain": [
       "HBox(children=(IntProgress(value=0, layout=Layout(flex='2'), max=150), HTML(value='')), layout=Layout(display=…"
      ]
     },
     "metadata": {},
     "output_type": "display_data"
    },
    {
     "name": "stdout",
     "output_type": "stream",
     "text": [
      "Epoch 5/10\n",
      "150/150 [==============================] - ETA: 0s - loss: 0.4106 - accuracy: 0.8067\n",
      "150/150 [==============================] - 2s 13ms/step - loss: 0.4106 - accuracy: 0.8067\n",
      "Epoch 6/10\n"
     ]
    },
    {
     "data": {
      "application/vnd.jupyter.widget-view+json": {
       "model_id": "9ba701fa0e7f4e059b4db3fd8cab2f47",
       "version_major": 2,
       "version_minor": 0
      },
      "text/plain": [
       "HBox(children=(IntProgress(value=0, layout=Layout(flex='2'), max=150), HTML(value='')), layout=Layout(display=…"
      ]
     },
     "metadata": {},
     "output_type": "display_data"
    },
    {
     "name": "stdout",
     "output_type": "stream",
     "text": [
      "Epoch 6/10\n",
      "150/150 [==============================] - ETA: 0s - loss: 0.3725 - accuracy: 0.8383\n",
      "150/150 [==============================] - 2s 13ms/step - loss: 0.3725 - accuracy: 0.8383\n",
      "Epoch 7/10\n"
     ]
    },
    {
     "data": {
      "application/vnd.jupyter.widget-view+json": {
       "model_id": "e0835c5bcdfd497595c44f07b2bb36a1",
       "version_major": 2,
       "version_minor": 0
      },
      "text/plain": [
       "HBox(children=(IntProgress(value=0, layout=Layout(flex='2'), max=150), HTML(value='')), layout=Layout(display=…"
      ]
     },
     "metadata": {},
     "output_type": "display_data"
    },
    {
     "name": "stdout",
     "output_type": "stream",
     "text": [
      "Epoch 7/10\n",
      "148/150 [============================>.] - ETA: 0s - loss: 0.3389 - accuracy: 0.8547\n",
      "150/150 [==============================] - 2s 13ms/step - loss: 0.3378 - accuracy: 0.8550\n",
      "Epoch 8/10\n"
     ]
    },
    {
     "data": {
      "application/vnd.jupyter.widget-view+json": {
       "model_id": "1198bca1a127467ebb5c4154da583b88",
       "version_major": 2,
       "version_minor": 0
      },
      "text/plain": [
       "HBox(children=(IntProgress(value=0, layout=Layout(flex='2'), max=150), HTML(value='')), layout=Layout(display=…"
      ]
     },
     "metadata": {},
     "output_type": "display_data"
    },
    {
     "name": "stdout",
     "output_type": "stream",
     "text": [
      "Epoch 8/10\n",
      "147/150 [============================>.] - ETA: 0s - loss: 0.3031 - accuracy: 0.8759\n",
      "150/150 [==============================] - 2s 13ms/step - loss: 0.3053 - accuracy: 0.8733\n",
      "Epoch 9/10\n"
     ]
    },
    {
     "data": {
      "application/vnd.jupyter.widget-view+json": {
       "model_id": "b61fa0ba42ec483cad9ab46e4c1c39ef",
       "version_major": 2,
       "version_minor": 0
      },
      "text/plain": [
       "HBox(children=(IntProgress(value=0, layout=Layout(flex='2'), max=150), HTML(value='')), layout=Layout(display=…"
      ]
     },
     "metadata": {},
     "output_type": "display_data"
    },
    {
     "name": "stdout",
     "output_type": "stream",
     "text": [
      "Epoch 9/10\n",
      "150/150 [==============================] - ETA: 0s - loss: 0.2835 - accuracy: 0.8817\n",
      "150/150 [==============================] - 2s 13ms/step - loss: 0.2835 - accuracy: 0.8817\n",
      "Epoch 10/10\n"
     ]
    },
    {
     "data": {
      "application/vnd.jupyter.widget-view+json": {
       "model_id": "2b95c85e60584920af8d3d83db58494f",
       "version_major": 2,
       "version_minor": 0
      },
      "text/plain": [
       "HBox(children=(IntProgress(value=0, layout=Layout(flex='2'), max=150), HTML(value='')), layout=Layout(display=…"
      ]
     },
     "metadata": {},
     "output_type": "display_data"
    },
    {
     "name": "stdout",
     "output_type": "stream",
     "text": [
      "Epoch 10/10\n",
      "146/150 [============================>.] - ETA: 0s - loss: 0.2391 - accuracy: 0.8887\n",
      "150/150 [==============================] - 2s 12ms/step - loss: 0.2382 - accuracy: 0.8917\n",
      "\n"
     ]
    }
   ],
   "source": [
    "ds_g_rw = pre.Reweigh(ds_german)\n",
    "german_model_rw = simple_model(ds_g_rw,epochs=10,ntrain=300,batch_size=4)\n",
    "german_model_rw.fit()\n",
    "ds_g_rw_class = german_model_rw.transform()"
   ]
  },
  {
   "cell_type": "code",
   "execution_count": 59,
   "metadata": {
    "collapsed": true
   },
   "outputs": [
    {
     "name": "stdout",
     "output_type": "stream",
     "text": [
      "Preparing data\n",
      "Starting training session\n"
     ]
    },
    {
     "data": {
      "application/vnd.jupyter.widget-view+json": {
       "model_id": "a0ceefe9b8ed4900bdeee720563f1daa",
       "version_major": 2,
       "version_minor": 0
      },
      "text/plain": [
       "HBox(children=(IntProgress(value=0, description='Training', layout=Layout(flex='2'), max=10, style=ProgressSty…"
      ]
     },
     "metadata": {},
     "output_type": "display_data"
    },
    {
     "name": "stdout",
     "output_type": "stream",
     "text": [
      "Epoch 1/10\n"
     ]
    },
    {
     "data": {
      "application/vnd.jupyter.widget-view+json": {
       "model_id": "9115486af2e141fdac5693f9453c7c3a",
       "version_major": 2,
       "version_minor": 0
      },
      "text/plain": [
       "HBox(children=(IntProgress(value=0, layout=Layout(flex='2'), max=19), HTML(value='')), layout=Layout(display='…"
      ]
     },
     "metadata": {},
     "output_type": "display_data"
    },
    {
     "name": "stdout",
     "output_type": "stream",
     "text": [
      "Epoch 1/10\n",
      "19/19 [==============================] - ETA: 0s - loss: -20.3746 - accuracy: 0.5667\n",
      "19/19 [==============================] - 0s 19ms/step - loss: -20.3746 - accuracy: 0.5667\n",
      "Epoch 2/10\n"
     ]
    },
    {
     "data": {
      "application/vnd.jupyter.widget-view+json": {
       "model_id": "fd385c2955f24226aed2ed3d52e5e6ea",
       "version_major": 2,
       "version_minor": 0
      },
      "text/plain": [
       "HBox(children=(IntProgress(value=0, layout=Layout(flex='2'), max=19), HTML(value='')), layout=Layout(display='…"
      ]
     },
     "metadata": {},
     "output_type": "display_data"
    },
    {
     "name": "stdout",
     "output_type": "stream",
     "text": [
      "Epoch 2/10\n",
      "17/19 [=========================>....] - ETA: 0s - loss: -20.3495 - accuracy: 0.6838\n",
      "19/19 [==============================] - 0s 20ms/step - loss: -20.3500 - accuracy: 0.6850\n",
      "Epoch 3/10\n"
     ]
    },
    {
     "data": {
      "application/vnd.jupyter.widget-view+json": {
       "model_id": "e0cedebc6798453fb8e803e9b68a258f",
       "version_major": 2,
       "version_minor": 0
      },
      "text/plain": [
       "HBox(children=(IntProgress(value=0, layout=Layout(flex='2'), max=19), HTML(value='')), layout=Layout(display='…"
      ]
     },
     "metadata": {},
     "output_type": "display_data"
    },
    {
     "name": "stdout",
     "output_type": "stream",
     "text": [
      "Epoch 3/10\n",
      "17/19 [=========================>....] - ETA: 0s - loss: -20.3289 - accuracy: 0.7482\n",
      "19/19 [==============================] - 0s 23ms/step - loss: -20.3219 - accuracy: 0.7467\n",
      "Epoch 4/10\n"
     ]
    },
    {
     "data": {
      "application/vnd.jupyter.widget-view+json": {
       "model_id": "11c969b23c6947b8ace1ed08d504f771",
       "version_major": 2,
       "version_minor": 0
      },
      "text/plain": [
       "HBox(children=(IntProgress(value=0, layout=Layout(flex='2'), max=19), HTML(value='')), layout=Layout(display='…"
      ]
     },
     "metadata": {},
     "output_type": "display_data"
    },
    {
     "name": "stdout",
     "output_type": "stream",
     "text": [
      "Epoch 4/10\n",
      "19/19 [==============================] - ETA: 0s - loss: -20.1525 - accuracy: 0.7633\n",
      "19/19 [==============================] - 0s 22ms/step - loss: -20.1525 - accuracy: 0.7633\n",
      "Epoch 5/10\n"
     ]
    },
    {
     "data": {
      "application/vnd.jupyter.widget-view+json": {
       "model_id": "be726669357149daaea1916a4849f120",
       "version_major": 2,
       "version_minor": 0
      },
      "text/plain": [
       "HBox(children=(IntProgress(value=0, layout=Layout(flex='2'), max=19), HTML(value='')), layout=Layout(display='…"
      ]
     },
     "metadata": {},
     "output_type": "display_data"
    },
    {
     "name": "stdout",
     "output_type": "stream",
     "text": [
      "Epoch 5/10\n",
      "19/19 [==============================] - ETA: 0s - loss: -19.9494 - accuracy: 0.7850\n",
      "19/19 [==============================] - 0s 20ms/step - loss: -19.9494 - accuracy: 0.7850\n",
      "Epoch 6/10\n"
     ]
    },
    {
     "data": {
      "application/vnd.jupyter.widget-view+json": {
       "model_id": "55c40c638c734be6bbc6e5feb18ef27a",
       "version_major": 2,
       "version_minor": 0
      },
      "text/plain": [
       "HBox(children=(IntProgress(value=0, layout=Layout(flex='2'), max=19), HTML(value='')), layout=Layout(display='…"
      ]
     },
     "metadata": {},
     "output_type": "display_data"
    },
    {
     "name": "stdout",
     "output_type": "stream",
     "text": [
      "Epoch 6/10\n",
      "19/19 [==============================] - ETA: 0s - loss: -19.7354 - accuracy: 0.7917\n",
      "19/19 [==============================] - 0s 19ms/step - loss: -19.7354 - accuracy: 0.7917\n",
      "Epoch 7/10\n"
     ]
    },
    {
     "data": {
      "application/vnd.jupyter.widget-view+json": {
       "model_id": "d86de019436f4f31a87d096472fdc2d7",
       "version_major": 2,
       "version_minor": 0
      },
      "text/plain": [
       "HBox(children=(IntProgress(value=0, layout=Layout(flex='2'), max=19), HTML(value='')), layout=Layout(display='…"
      ]
     },
     "metadata": {},
     "output_type": "display_data"
    },
    {
     "name": "stdout",
     "output_type": "stream",
     "text": [
      "Epoch 7/10\n",
      "18/19 [===========================>..] - ETA: 0s - loss: -19.5537 - accuracy: 0.7951\n",
      "19/19 [==============================] - 0s 21ms/step - loss: -19.5522 - accuracy: 0.7950\n",
      "Epoch 8/10\n"
     ]
    },
    {
     "data": {
      "application/vnd.jupyter.widget-view+json": {
       "model_id": "3d21225d7b2d4fedb48e3832aef8e7c7",
       "version_major": 2,
       "version_minor": 0
      },
      "text/plain": [
       "HBox(children=(IntProgress(value=0, layout=Layout(flex='2'), max=19), HTML(value='')), layout=Layout(display='…"
      ]
     },
     "metadata": {},
     "output_type": "display_data"
    },
    {
     "name": "stdout",
     "output_type": "stream",
     "text": [
      "Epoch 8/10\n",
      "19/19 [==============================] - ETA: 0s - loss: -19.3607 - accuracy: 0.8067\n",
      "19/19 [==============================] - 0s 19ms/step - loss: -19.3607 - accuracy: 0.8067\n",
      "Epoch 9/10\n"
     ]
    },
    {
     "data": {
      "application/vnd.jupyter.widget-view+json": {
       "model_id": "67fbf3e78e954a73bce55bf851fc950d",
       "version_major": 2,
       "version_minor": 0
      },
      "text/plain": [
       "HBox(children=(IntProgress(value=0, layout=Layout(flex='2'), max=19), HTML(value='')), layout=Layout(display='…"
      ]
     },
     "metadata": {},
     "output_type": "display_data"
    },
    {
     "name": "stdout",
     "output_type": "stream",
     "text": [
      "Epoch 9/10\n",
      "18/19 [===========================>..] - ETA: 0s - loss: -19.1935 - accuracy: 0.8177\n",
      "19/19 [==============================] - 0s 23ms/step - loss: -19.1885 - accuracy: 0.8167\n",
      "Epoch 10/10\n"
     ]
    },
    {
     "data": {
      "application/vnd.jupyter.widget-view+json": {
       "model_id": "23b7c302837d445bb12ff76c95018ab2",
       "version_major": 2,
       "version_minor": 0
      },
      "text/plain": [
       "HBox(children=(IntProgress(value=0, layout=Layout(flex='2'), max=19), HTML(value='')), layout=Layout(display='…"
      ]
     },
     "metadata": {},
     "output_type": "display_data"
    },
    {
     "name": "stdout",
     "output_type": "stream",
     "text": [
      "Epoch 10/10\n",
      "19/19 [==============================] - ETA: 0s - loss: -19.0173 - accuracy: 0.8217\n",
      "19/19 [==============================] - 0s 20ms/step - loss: -19.0173 - accuracy: 0.8217\n",
      "\n"
     ]
    }
   ],
   "source": [
    "ds_g_pr = inp.PrejudiceRemover(ds_german,epochs=10,ntrain=300,eta=0.5)"
   ]
  },
  {
   "cell_type": "code",
   "execution_count": 72,
   "metadata": {},
   "outputs": [],
   "source": [
    "ds_g_ro = post.RejectOption(ds_g_class,0.207)"
   ]
  },
  {
   "cell_type": "code",
   "execution_count": null,
   "metadata": {},
   "outputs": [],
   "source": []
  },
  {
   "cell_type": "code",
   "execution_count": 160,
   "metadata": {},
   "outputs": [],
   "source": [
    "#print(df_compas.columns)\n",
    "drop_c = ['juv_fel_count','juv_misd_count','days_b_screening_arrest','c_jail_in','c_jail_out',\n",
    "          'c_offense_date','c_arrest_date','in_custody','out_custody','r_case_number','r_charge_degree',\n",
    "          'r_days_from_arrest','r_offense_date','r_charge_desc','r_jail_out','r_jail_in','vr_case_number',\n",
    "          'vr_charge_degree','vr_offense_date','vr_charge_desc','violent_recid','c_case_number',\n",
    "          'c_days_from_compas','c_charge_desc']\n",
    "\n",
    "d_compas = df_compas.drop(drop_c,1)\n"
   ]
  },
  {
   "cell_type": "code",
   "execution_count": null,
   "metadata": {},
   "outputs": [],
   "source": []
  },
  {
   "cell_type": "code",
   "execution_count": 170,
   "metadata": {},
   "outputs": [],
   "source": [
    "cat_features = ['sex','age_cat','race','v_score_text']\n",
    "train_features = cat_features + ['v_decile_score','priors_count.1','end','decile_score']\n",
    "\n",
    "\n",
    "ds_compas = dat.Dataset(d_compas.copy(),'two_year_recid',['race'],\n",
    "                        map_func_pa=map_func_pa_compas, title='compas',\n",
    "                        map_func_lab=map_func_lab_compas,\n",
    "                        categorical_features=cat_features,\n",
    "                        training_features=train_features)"
   ]
  },
  {
   "cell_type": "code",
   "execution_count": 171,
   "metadata": {
    "collapsed": true
   },
   "outputs": [
    {
     "data": {
      "application/vnd.jupyter.widget-view+json": {
       "model_id": "23a0401286f248fa9b32dc3ee374870b",
       "version_major": 2,
       "version_minor": 0
      },
      "text/plain": [
       "HBox(children=(IntProgress(value=0, description='Training', layout=Layout(flex='2'), max=10, style=ProgressSty…"
      ]
     },
     "metadata": {},
     "output_type": "display_data"
    },
    {
     "name": "stdout",
     "output_type": "stream",
     "text": [
      "Epoch 1/10\n"
     ]
    },
    {
     "data": {
      "application/vnd.jupyter.widget-view+json": {
       "model_id": "21fc2dd6a6c14452aa89a04b1b15a508",
       "version_major": 2,
       "version_minor": 0
      },
      "text/plain": [
       "HBox(children=(IntProgress(value=0, layout=Layout(flex='2'), max=94), HTML(value='')), layout=Layout(display='…"
      ]
     },
     "metadata": {},
     "output_type": "display_data"
    },
    {
     "name": "stdout",
     "output_type": "stream",
     "text": [
      "Epoch 1/10\n",
      "94/94 [==============================] - ETA: 0s - loss: 0.4139 - accuracy: 0.8483\n",
      "94/94 [==============================] - 1s 14ms/step - loss: 0.4139 - accuracy: 0.8483\n",
      "Epoch 2/10\n"
     ]
    },
    {
     "data": {
      "application/vnd.jupyter.widget-view+json": {
       "model_id": "e201e41de02e481b86de35fc2e00d953",
       "version_major": 2,
       "version_minor": 0
      },
      "text/plain": [
       "HBox(children=(IntProgress(value=0, layout=Layout(flex='2'), max=94), HTML(value='')), layout=Layout(display='…"
      ]
     },
     "metadata": {},
     "output_type": "display_data"
    },
    {
     "name": "stdout",
     "output_type": "stream",
     "text": [
      "Epoch 2/10\n",
      "93/94 [============================>.] - ETA: 0s - loss: 0.2970 - accuracy: 0.8805\n",
      "94/94 [==============================] - 1s 13ms/step - loss: 0.2967 - accuracy: 0.8808\n",
      "Epoch 3/10\n"
     ]
    },
    {
     "data": {
      "application/vnd.jupyter.widget-view+json": {
       "model_id": "b840e8a099a54089a1ffaf499e924a28",
       "version_major": 2,
       "version_minor": 0
      },
      "text/plain": [
       "HBox(children=(IntProgress(value=0, layout=Layout(flex='2'), max=94), HTML(value='')), layout=Layout(display='…"
      ]
     },
     "metadata": {},
     "output_type": "display_data"
    },
    {
     "name": "stdout",
     "output_type": "stream",
     "text": [
      "Epoch 3/10\n",
      "94/94 [==============================] - ETA: 0s - loss: 0.2845 - accuracy: 0.8863\n",
      "94/94 [==============================] - 1s 13ms/step - loss: 0.2845 - accuracy: 0.8863\n",
      "Epoch 4/10\n"
     ]
    },
    {
     "data": {
      "application/vnd.jupyter.widget-view+json": {
       "model_id": "16af778b4f0349ec8bc7dcd3347ba0eb",
       "version_major": 2,
       "version_minor": 0
      },
      "text/plain": [
       "HBox(children=(IntProgress(value=0, layout=Layout(flex='2'), max=94), HTML(value='')), layout=Layout(display='…"
      ]
     },
     "metadata": {},
     "output_type": "display_data"
    },
    {
     "name": "stdout",
     "output_type": "stream",
     "text": [
      "Epoch 4/10\n",
      "92/94 [============================>.] - ETA: 0s - loss: 0.2785 - accuracy: 0.8898\n",
      "94/94 [==============================] - 1s 13ms/step - loss: 0.2777 - accuracy: 0.8905\n",
      "Epoch 5/10\n"
     ]
    },
    {
     "data": {
      "application/vnd.jupyter.widget-view+json": {
       "model_id": "217d237458a34ee49feb4345e820c21f",
       "version_major": 2,
       "version_minor": 0
      },
      "text/plain": [
       "HBox(children=(IntProgress(value=0, layout=Layout(flex='2'), max=94), HTML(value='')), layout=Layout(display='…"
      ]
     },
     "metadata": {},
     "output_type": "display_data"
    },
    {
     "name": "stdout",
     "output_type": "stream",
     "text": [
      "Epoch 5/10\n",
      "91/94 [============================>.] - ETA: 0s - loss: 0.2738 - accuracy: 0.8915\n",
      "94/94 [==============================] - 1s 13ms/step - loss: 0.2743 - accuracy: 0.8910\n",
      "Epoch 6/10\n"
     ]
    },
    {
     "data": {
      "application/vnd.jupyter.widget-view+json": {
       "model_id": "d277a2a09a3c4bf9bef9585c70975f97",
       "version_major": 2,
       "version_minor": 0
      },
      "text/plain": [
       "HBox(children=(IntProgress(value=0, layout=Layout(flex='2'), max=94), HTML(value='')), layout=Layout(display='…"
      ]
     },
     "metadata": {},
     "output_type": "display_data"
    },
    {
     "name": "stdout",
     "output_type": "stream",
     "text": [
      "Epoch 6/10\n",
      "90/94 [===========================>..] - ETA: 0s - loss: 0.2681 - accuracy: 0.8941\n",
      "94/94 [==============================] - 1s 13ms/step - loss: 0.2677 - accuracy: 0.8943\n",
      "Epoch 7/10\n"
     ]
    },
    {
     "data": {
      "application/vnd.jupyter.widget-view+json": {
       "model_id": "fc5b5c4c81f04de290804ed4be6c3ba0",
       "version_major": 2,
       "version_minor": 0
      },
      "text/plain": [
       "HBox(children=(IntProgress(value=0, layout=Layout(flex='2'), max=94), HTML(value='')), layout=Layout(display='…"
      ]
     },
     "metadata": {},
     "output_type": "display_data"
    },
    {
     "name": "stdout",
     "output_type": "stream",
     "text": [
      "Epoch 7/10\n",
      "94/94 [==============================] - ETA: 0s - loss: 0.2670 - accuracy: 0.8947\n",
      "94/94 [==============================] - 1s 15ms/step - loss: 0.2670 - accuracy: 0.8947\n",
      "Epoch 8/10\n"
     ]
    },
    {
     "data": {
      "application/vnd.jupyter.widget-view+json": {
       "model_id": "6a7e3582a9c847c8965c83b65b4bc8c3",
       "version_major": 2,
       "version_minor": 0
      },
      "text/plain": [
       "HBox(children=(IntProgress(value=0, layout=Layout(flex='2'), max=94), HTML(value='')), layout=Layout(display='…"
      ]
     },
     "metadata": {},
     "output_type": "display_data"
    },
    {
     "name": "stdout",
     "output_type": "stream",
     "text": [
      "Epoch 8/10\n",
      "92/94 [============================>.] - ETA: 0s - loss: 0.2653 - accuracy: 0.8959\n",
      "94/94 [==============================] - 1s 13ms/step - loss: 0.2656 - accuracy: 0.8957\n",
      "Epoch 9/10\n"
     ]
    },
    {
     "data": {
      "application/vnd.jupyter.widget-view+json": {
       "model_id": "5b44a61af6b946488174ac33460f051f",
       "version_major": 2,
       "version_minor": 0
      },
      "text/plain": [
       "HBox(children=(IntProgress(value=0, layout=Layout(flex='2'), max=94), HTML(value='')), layout=Layout(display='…"
      ]
     },
     "metadata": {},
     "output_type": "display_data"
    },
    {
     "name": "stdout",
     "output_type": "stream",
     "text": [
      "Epoch 9/10\n",
      "94/94 [==============================] - ETA: 0s - loss: 0.2635 - accuracy: 0.8972\n",
      "94/94 [==============================] - 1s 13ms/step - loss: 0.2635 - accuracy: 0.8972\n",
      "Epoch 10/10\n"
     ]
    },
    {
     "data": {
      "application/vnd.jupyter.widget-view+json": {
       "model_id": "0165ec2e49994c94923364fc3ab99d3b",
       "version_major": 2,
       "version_minor": 0
      },
      "text/plain": [
       "HBox(children=(IntProgress(value=0, layout=Layout(flex='2'), max=94), HTML(value='')), layout=Layout(display='…"
      ]
     },
     "metadata": {},
     "output_type": "display_data"
    },
    {
     "name": "stdout",
     "output_type": "stream",
     "text": [
      "Epoch 10/10\n",
      "92/94 [============================>.] - ETA: 0s - loss: 0.2597 - accuracy: 0.8984\n",
      "94/94 [==============================] - 1s 14ms/step - loss: 0.2613 - accuracy: 0.8975\n",
      "\n"
     ]
    }
   ],
   "source": [
    "compas_model = simple_model(ds_compas,epochs=10,ntrain=3000,batch_size=64)\n",
    "compas_model.fit()\n",
    "ds_c_class = compas_model.transform()"
   ]
  },
  {
   "cell_type": "code",
   "execution_count": 174,
   "metadata": {
    "collapsed": true
   },
   "outputs": [
    {
     "data": {
      "application/vnd.jupyter.widget-view+json": {
       "model_id": "0ec3bd55391f47f6aa11f063e0a25d80",
       "version_major": 2,
       "version_minor": 0
      },
      "text/plain": [
       "HBox(children=(IntProgress(value=0, description='Training', layout=Layout(flex='2'), max=10, style=ProgressSty…"
      ]
     },
     "metadata": {},
     "output_type": "display_data"
    },
    {
     "name": "stdout",
     "output_type": "stream",
     "text": [
      "Epoch 1/10\n"
     ]
    },
    {
     "data": {
      "application/vnd.jupyter.widget-view+json": {
       "model_id": "7786414b45aa4aa08535238fcbe154df",
       "version_major": 2,
       "version_minor": 0
      },
      "text/plain": [
       "HBox(children=(IntProgress(value=0, layout=Layout(flex='2'), max=94), HTML(value='')), layout=Layout(display='…"
      ]
     },
     "metadata": {},
     "output_type": "display_data"
    },
    {
     "name": "stdout",
     "output_type": "stream",
     "text": [
      "Epoch 1/10\n",
      "94/94 [==============================] - ETA: 0s - loss: 0.3884 - accuracy: 0.8493\n",
      "94/94 [==============================] - 1s 14ms/step - loss: 0.3884 - accuracy: 0.8493\n",
      "Epoch 2/10\n"
     ]
    },
    {
     "data": {
      "application/vnd.jupyter.widget-view+json": {
       "model_id": "8b27defd07034379a7448cfd934c0821",
       "version_major": 2,
       "version_minor": 0
      },
      "text/plain": [
       "HBox(children=(IntProgress(value=0, layout=Layout(flex='2'), max=94), HTML(value='')), layout=Layout(display='…"
      ]
     },
     "metadata": {},
     "output_type": "display_data"
    },
    {
     "name": "stdout",
     "output_type": "stream",
     "text": [
      "Epoch 2/10\n",
      "93/94 [============================>.] - ETA: 0s - loss: 0.2861 - accuracy: 0.8891\n",
      "94/94 [==============================] - 1s 13ms/step - loss: 0.2858 - accuracy: 0.8892\n",
      "Epoch 3/10\n"
     ]
    },
    {
     "data": {
      "application/vnd.jupyter.widget-view+json": {
       "model_id": "ef36475e43e64b4a9406a269fdf07585",
       "version_major": 2,
       "version_minor": 0
      },
      "text/plain": [
       "HBox(children=(IntProgress(value=0, layout=Layout(flex='2'), max=94), HTML(value='')), layout=Layout(display='…"
      ]
     },
     "metadata": {},
     "output_type": "display_data"
    },
    {
     "name": "stdout",
     "output_type": "stream",
     "text": [
      "Epoch 3/10\n",
      "93/94 [============================>.] - ETA: 0s - loss: 0.2763 - accuracy: 0.8931\n",
      "94/94 [==============================] - 1s 14ms/step - loss: 0.2759 - accuracy: 0.8933\n",
      "Epoch 4/10\n"
     ]
    },
    {
     "data": {
      "application/vnd.jupyter.widget-view+json": {
       "model_id": "ef8d3345d3a74d0c864f6b0c1adc3041",
       "version_major": 2,
       "version_minor": 0
      },
      "text/plain": [
       "HBox(children=(IntProgress(value=0, layout=Layout(flex='2'), max=94), HTML(value='')), layout=Layout(display='…"
      ]
     },
     "metadata": {},
     "output_type": "display_data"
    },
    {
     "name": "stdout",
     "output_type": "stream",
     "text": [
      "Epoch 4/10\n",
      "91/94 [============================>.] - ETA: 0s - loss: 0.2704 - accuracy: 0.8963\n",
      "94/94 [==============================] - 1s 13ms/step - loss: 0.2710 - accuracy: 0.8968\n",
      "Epoch 5/10\n"
     ]
    },
    {
     "data": {
      "application/vnd.jupyter.widget-view+json": {
       "model_id": "ceef01a3edfe48a3bb13864de0a5e1e9",
       "version_major": 2,
       "version_minor": 0
      },
      "text/plain": [
       "HBox(children=(IntProgress(value=0, layout=Layout(flex='2'), max=94), HTML(value='')), layout=Layout(display='…"
      ]
     },
     "metadata": {},
     "output_type": "display_data"
    },
    {
     "name": "stdout",
     "output_type": "stream",
     "text": [
      "Epoch 5/10\n",
      "92/94 [============================>.] - ETA: 0s - loss: 0.2675 - accuracy: 0.8991\n",
      "94/94 [==============================] - 1s 13ms/step - loss: 0.2672 - accuracy: 0.8995\n",
      "Epoch 6/10\n"
     ]
    },
    {
     "data": {
      "application/vnd.jupyter.widget-view+json": {
       "model_id": "bf254dee9065428fa6311dc47a7d72de",
       "version_major": 2,
       "version_minor": 0
      },
      "text/plain": [
       "HBox(children=(IntProgress(value=0, layout=Layout(flex='2'), max=94), HTML(value='')), layout=Layout(display='…"
      ]
     },
     "metadata": {},
     "output_type": "display_data"
    },
    {
     "name": "stdout",
     "output_type": "stream",
     "text": [
      "Epoch 6/10\n",
      "93/94 [============================>.] - ETA: 0s - loss: 0.2626 - accuracy: 0.8997\n",
      "94/94 [==============================] - 1s 12ms/step - loss: 0.2641 - accuracy: 0.8988\n",
      "Epoch 7/10\n"
     ]
    },
    {
     "data": {
      "application/vnd.jupyter.widget-view+json": {
       "model_id": "a58d377c48a34214954a0c231ba3962c",
       "version_major": 2,
       "version_minor": 0
      },
      "text/plain": [
       "HBox(children=(IntProgress(value=0, layout=Layout(flex='2'), max=94), HTML(value='')), layout=Layout(display='…"
      ]
     },
     "metadata": {},
     "output_type": "display_data"
    },
    {
     "name": "stdout",
     "output_type": "stream",
     "text": [
      "Epoch 7/10\n",
      "91/94 [============================>.] - ETA: 0s - loss: 0.2620 - accuracy: 0.9006\n",
      "94/94 [==============================] - 1s 13ms/step - loss: 0.2628 - accuracy: 0.8998\n",
      "Epoch 8/10\n"
     ]
    },
    {
     "data": {
      "application/vnd.jupyter.widget-view+json": {
       "model_id": "a0955d6437a94716a1fefb1451d42e1d",
       "version_major": 2,
       "version_minor": 0
      },
      "text/plain": [
       "HBox(children=(IntProgress(value=0, layout=Layout(flex='2'), max=94), HTML(value='')), layout=Layout(display='…"
      ]
     },
     "metadata": {},
     "output_type": "display_data"
    },
    {
     "name": "stdout",
     "output_type": "stream",
     "text": [
      "Epoch 8/10\n",
      "92/94 [============================>.] - ETA: 0s - loss: 0.2619 - accuracy: 0.8991\n",
      "94/94 [==============================] - 1s 13ms/step - loss: 0.2609 - accuracy: 0.8995\n",
      "Epoch 9/10\n"
     ]
    },
    {
     "data": {
      "application/vnd.jupyter.widget-view+json": {
       "model_id": "25509121d56f4a7eb8fdc91d3580f473",
       "version_major": 2,
       "version_minor": 0
      },
      "text/plain": [
       "HBox(children=(IntProgress(value=0, layout=Layout(flex='2'), max=94), HTML(value='')), layout=Layout(display='…"
      ]
     },
     "metadata": {},
     "output_type": "display_data"
    },
    {
     "name": "stdout",
     "output_type": "stream",
     "text": [
      "Epoch 9/10\n",
      "93/94 [============================>.] - ETA: 0s - loss: 0.2579 - accuracy: 0.9007\n",
      "94/94 [==============================] - 1s 14ms/step - loss: 0.2577 - accuracy: 0.9008\n",
      "Epoch 10/10\n"
     ]
    },
    {
     "data": {
      "application/vnd.jupyter.widget-view+json": {
       "model_id": "06956765d0844b27b2c3112984e302c2",
       "version_major": 2,
       "version_minor": 0
      },
      "text/plain": [
       "HBox(children=(IntProgress(value=0, layout=Layout(flex='2'), max=94), HTML(value='')), layout=Layout(display='…"
      ]
     },
     "metadata": {},
     "output_type": "display_data"
    },
    {
     "name": "stdout",
     "output_type": "stream",
     "text": [
      "Epoch 10/10\n",
      "93/94 [============================>.] - ETA: 0s - loss: 0.2566 - accuracy: 0.9020\n",
      "94/94 [==============================] - 1s 13ms/step - loss: 0.2577 - accuracy: 0.9013\n",
      "\n"
     ]
    }
   ],
   "source": [
    "ds_c_rw = pre.Reweigh(ds_compas)\n",
    "compas_model_rw = simple_model(ds_c_rw,epochs=10,ntrain=3000,batch_size=64)\n",
    "compas_model_rw.fit()\n",
    "ds_c_rw_class = compas_model_rw.transform()"
   ]
  },
  {
   "cell_type": "code",
   "execution_count": 176,
   "metadata": {
    "collapsed": true
   },
   "outputs": [
    {
     "name": "stdout",
     "output_type": "stream",
     "text": [
      "Preparing data\n",
      "Starting training session\n"
     ]
    },
    {
     "data": {
      "application/vnd.jupyter.widget-view+json": {
       "model_id": "5eadcdb619d04f01b1688d936a988873",
       "version_major": 2,
       "version_minor": 0
      },
      "text/plain": [
       "HBox(children=(IntProgress(value=0, description='Training', layout=Layout(flex='2'), max=10, style=ProgressSty…"
      ]
     },
     "metadata": {},
     "output_type": "display_data"
    },
    {
     "name": "stdout",
     "output_type": "stream",
     "text": [
      "Epoch 1/10\n"
     ]
    },
    {
     "data": {
      "application/vnd.jupyter.widget-view+json": {
       "model_id": "7f84cbd4680645029dce6f86be22e5ec",
       "version_major": 2,
       "version_minor": 0
      },
      "text/plain": [
       "HBox(children=(IntProgress(value=0, layout=Layout(flex='2'), max=188), HTML(value='')), layout=Layout(display=…"
      ]
     },
     "metadata": {},
     "output_type": "display_data"
    },
    {
     "name": "stdout",
     "output_type": "stream",
     "text": [
      "Epoch 1/10\n",
      "188/188 [==============================] - ETA: 0s - loss: -35.2734 - accuracy: 0.8147\n",
      "188/188 [==============================] - 12s 66ms/step - loss: -35.2734 - accuracy: 0.8147\n",
      "Epoch 2/10\n"
     ]
    },
    {
     "data": {
      "application/vnd.jupyter.widget-view+json": {
       "model_id": "02cf5577e3c74eb5beaa6fd5c147342a",
       "version_major": 2,
       "version_minor": 0
      },
      "text/plain": [
       "HBox(children=(IntProgress(value=0, layout=Layout(flex='2'), max=188), HTML(value='')), layout=Layout(display=…"
      ]
     },
     "metadata": {},
     "output_type": "display_data"
    },
    {
     "name": "stdout",
     "output_type": "stream",
     "text": [
      "Epoch 2/10\n",
      "188/188 [==============================] - ETA: 0s - loss: -35.7206 - accuracy: 0.8963\n",
      "188/188 [==============================] - 12s 64ms/step - loss: -35.7206 - accuracy: 0.8963\n",
      "Epoch 3/10\n"
     ]
    },
    {
     "data": {
      "application/vnd.jupyter.widget-view+json": {
       "model_id": "ef7fd47bc924441a9a43418a97549b29",
       "version_major": 2,
       "version_minor": 0
      },
      "text/plain": [
       "HBox(children=(IntProgress(value=0, layout=Layout(flex='2'), max=188), HTML(value='')), layout=Layout(display=…"
      ]
     },
     "metadata": {},
     "output_type": "display_data"
    },
    {
     "name": "stdout",
     "output_type": "stream",
     "text": [
      "Epoch 3/10\n",
      "188/188 [==============================] - ETA: 0s - loss: -35.8848 - accuracy: 0.8980\n",
      "188/188 [==============================] - 12s 64ms/step - loss: -35.8848 - accuracy: 0.8980\n",
      "Epoch 4/10\n"
     ]
    },
    {
     "data": {
      "application/vnd.jupyter.widget-view+json": {
       "model_id": "b5c87f0428c24691a7c1dc4a05187e96",
       "version_major": 2,
       "version_minor": 0
      },
      "text/plain": [
       "HBox(children=(IntProgress(value=0, layout=Layout(flex='2'), max=188), HTML(value='')), layout=Layout(display=…"
      ]
     },
     "metadata": {},
     "output_type": "display_data"
    },
    {
     "name": "stdout",
     "output_type": "stream",
     "text": [
      "Epoch 4/10\n",
      "188/188 [==============================] - ETA: 0s - loss: -35.9888 - accuracy: 0.9018\n",
      "188/188 [==============================] - 12s 64ms/step - loss: -35.9888 - accuracy: 0.9018\n",
      "Epoch 5/10\n"
     ]
    },
    {
     "data": {
      "application/vnd.jupyter.widget-view+json": {
       "model_id": "7f3b59b1dc3644b1aa6334012ba5881d",
       "version_major": 2,
       "version_minor": 0
      },
      "text/plain": [
       "HBox(children=(IntProgress(value=0, layout=Layout(flex='2'), max=188), HTML(value='')), layout=Layout(display=…"
      ]
     },
     "metadata": {},
     "output_type": "display_data"
    },
    {
     "name": "stdout",
     "output_type": "stream",
     "text": [
      "Epoch 5/10\n",
      "188/188 [==============================] - ETA: 0s - loss: -36.0579 - accuracy: 0.9010\n",
      "188/188 [==============================] - 12s 63ms/step - loss: -36.0579 - accuracy: 0.9010\n",
      "Epoch 6/10\n"
     ]
    },
    {
     "data": {
      "application/vnd.jupyter.widget-view+json": {
       "model_id": "140f9fb974d342dfa65074be8975931e",
       "version_major": 2,
       "version_minor": 0
      },
      "text/plain": [
       "HBox(children=(IntProgress(value=0, layout=Layout(flex='2'), max=188), HTML(value='')), layout=Layout(display=…"
      ]
     },
     "metadata": {},
     "output_type": "display_data"
    },
    {
     "name": "stdout",
     "output_type": "stream",
     "text": [
      "Epoch 6/10\n",
      "188/188 [==============================] - ETA: 0s - loss: -36.1029 - accuracy: 0.9027\n",
      "188/188 [==============================] - 12s 65ms/step - loss: -36.1029 - accuracy: 0.9027\n",
      "Epoch 7/10\n"
     ]
    },
    {
     "data": {
      "application/vnd.jupyter.widget-view+json": {
       "model_id": "a9099da9d9f2473f9e4f98d98fd979f8",
       "version_major": 2,
       "version_minor": 0
      },
      "text/plain": [
       "HBox(children=(IntProgress(value=0, layout=Layout(flex='2'), max=188), HTML(value='')), layout=Layout(display=…"
      ]
     },
     "metadata": {},
     "output_type": "display_data"
    },
    {
     "name": "stdout",
     "output_type": "stream",
     "text": [
      "Epoch 7/10\n",
      "188/188 [==============================] - ETA: 0s - loss: -36.1858 - accuracy: 0.9035\n",
      "188/188 [==============================] - 12s 64ms/step - loss: -36.1858 - accuracy: 0.9035\n",
      "Epoch 8/10\n"
     ]
    },
    {
     "data": {
      "application/vnd.jupyter.widget-view+json": {
       "model_id": "43e0db1470cd4988ae9133ad61e3c8a8",
       "version_major": 2,
       "version_minor": 0
      },
      "text/plain": [
       "HBox(children=(IntProgress(value=0, layout=Layout(flex='2'), max=188), HTML(value='')), layout=Layout(display=…"
      ]
     },
     "metadata": {},
     "output_type": "display_data"
    },
    {
     "name": "stdout",
     "output_type": "stream",
     "text": [
      "Epoch 8/10\n",
      "188/188 [==============================] - ETA: 0s - loss: -36.3064 - accuracy: 0.9038\n",
      "188/188 [==============================] - 12s 64ms/step - loss: -36.3064 - accuracy: 0.9038\n",
      "Epoch 9/10\n"
     ]
    },
    {
     "data": {
      "application/vnd.jupyter.widget-view+json": {
       "model_id": "4cc05e41f88d46efae5e53bd33684c0d",
       "version_major": 2,
       "version_minor": 0
      },
      "text/plain": [
       "HBox(children=(IntProgress(value=0, layout=Layout(flex='2'), max=188), HTML(value='')), layout=Layout(display=…"
      ]
     },
     "metadata": {},
     "output_type": "display_data"
    },
    {
     "name": "stdout",
     "output_type": "stream",
     "text": [
      "Epoch 9/10\n",
      "188/188 [==============================] - ETA: 0s - loss: -36.3333 - accuracy: 0.9040\n",
      "188/188 [==============================] - 13s 72ms/step - loss: -36.3333 - accuracy: 0.9040\n",
      "Epoch 10/10\n"
     ]
    },
    {
     "data": {
      "application/vnd.jupyter.widget-view+json": {
       "model_id": "72470a66d12d4b7ebed6cdebe71ff265",
       "version_major": 2,
       "version_minor": 0
      },
      "text/plain": [
       "HBox(children=(IntProgress(value=0, layout=Layout(flex='2'), max=188), HTML(value='')), layout=Layout(display=…"
      ]
     },
     "metadata": {},
     "output_type": "display_data"
    },
    {
     "name": "stdout",
     "output_type": "stream",
     "text": [
      "Epoch 10/10\n",
      "188/188 [==============================] - ETA: 0s - loss: -36.3632 - accuracy: 0.9042\n",
      "188/188 [==============================] - 13s 68ms/step - loss: -36.3632 - accuracy: 0.9042\n",
      "\n"
     ]
    }
   ],
   "source": [
    "ds_c_pr = inp.PrejudiceRemover(ds_compas,epochs=10,ntrain=3000,eta=.5)"
   ]
  },
  {
   "cell_type": "code",
   "execution_count": 210,
   "metadata": {},
   "outputs": [],
   "source": [
    "ds_c_ro = post.RejectOption(ds_c_class,0.2702)"
   ]
  },
  {
   "cell_type": "code",
   "execution_count": 223,
   "metadata": {},
   "outputs": [
    {
     "name": "stdout",
     "output_type": "stream",
     "text": [
      "DI: 1.0003329567120967\n",
      "SPD: 0.00016145822632229745\n",
      "AOD: 0.06659905506679703\n",
      "EOD: 0.05171391332681663\n",
      "Accuracy: 87.82922095924592%\n"
     ]
    }
   ],
   "source": [
    "b = ds_c_ro\n",
    "res = [met.DisparateImpact(b,'prediction'),met.StatisticalParityDifference(b,'prediction'),\n",
    "       met.AverageOddsDifference(b),met.EqualOpportunityDifference(b)]\n",
    "\n",
    "print(\"DI: {0[0]}\\nSPD: {0[1]}\\nAOD: {0[2]}\\nEOD: {0[3]}\".format(res))\n",
    "\n",
    "l = len(b.dataframe[b.dataframe['Label_binary']==b.dataframe['Prediction_binary']])\n",
    "p = (l/len(b.dataframe))*100\n",
    "print('Accuracy: {}%'.format(p))"
   ]
  },
  {
   "cell_type": "code",
   "execution_count": 214,
   "metadata": {},
   "outputs": [],
   "source": [
    "ds_c_rw_class.title='compas (Reweigh)'\n",
    "ds_c_ro.title = 'compas (RejectOption)'\n",
    "v = vis.Visualization([ds_compas,ds_c_class,ds_c_rw_class,ds_c_pr,ds_c_ro],figsize_Y=3)"
   ]
  },
  {
   "cell_type": "code",
   "execution_count": 217,
   "metadata": {},
   "outputs": [
    {
     "data": {
      "image/png": "[encoded data removed]",
      "text/plain": [
       "<Figure size 360x216 with 1 Axes>"
      ]
     },
     "metadata": {
      "needs_background": "light"
     },
     "output_type": "display_data"
    }
   ],
   "source": [
    "references=['label','prediction','prediction','prediction','prediction']\n",
    "v.visualize_metric('spd',references=references,rotation=20,color='green')"
   ]
  },
  {
   "cell_type": "code",
   "execution_count": 219,
   "metadata": {},
   "outputs": [
    {
     "data": {
      "image/png": "[encoded data removed]",
      "text/plain": [
       "<Figure size 360x216 with 1 Axes>"
      ]
     },
     "metadata": {
      "needs_background": "light"
     },
     "output_type": "display_data"
    }
   ],
   "source": [
    "w = vis.Visualization([ds_c_class,ds_c_rw_class,ds_c_pr,ds_c_ro],figsize_Y=3)\n",
    "w.visualize_metric('eod',rotation=20,color='green')"
   ]
  },
  {
   "cell_type": "code",
   "execution_count": 166,
   "metadata": {},
   "outputs": [],
   "source": [
    "class simple_model():\n",
    "    \n",
    "    def __init__(self,dataset,epochs=1,ntrain=1000,batch_size=128):\n",
    "        self.dataset     = dataset\n",
    "        self.epochs      = epochs\n",
    "        self.num_samples = len(dataset.dataframe)\n",
    "        self.num_f       = len(self.dataset.train_features)\n",
    "        self.ntrain      = ntrain\n",
    "        self.batch_size  = batch_size\n",
    "        self.process_data()\n",
    "        \n",
    "    def process_data(self):\n",
    "        \"\"\" \n",
    "        Processes the data from the Dataset object so that it\n",
    "        is compatible with the training model.\n",
    "        \"\"\"\n",
    "    \n",
    "        if not self.dataset.train_features:\n",
    "            raise ValueError(\"Dataset must contain designated training features\")\n",
    "\n",
    "        self.df = self.dataset.dataframe.copy()\n",
    "\n",
    "        self.X  = self.df[self.dataset.train_features]\n",
    "        self.Y  = self.df['Label_binary']\n",
    "\n",
    "        prot_idx   = self.df[self.df['Label_binary']==1].index.values\n",
    "        unprot_idx = self.df[self.df['Label_binary']==0].index.values\n",
    "        prot_row   = np.random.choice(prot_idx,self.ntrain)\n",
    "        unprot_row = np.random.choice(unprot_idx,self.ntrain)\n",
    "        rows       = np.concatenate((prot_row, unprot_row))\n",
    "            \n",
    "        self.samples = self.df.loc[rows]\n",
    "        X_val = self.samples[self.dataset.train_features].values.copy()\n",
    "        Y_val = self.samples['Label_binary'].values.copy()\n",
    "\n",
    "        LE      = LabelEncoder()\n",
    "        Y_val   = LE.fit_transform(Y_val)\n",
    "\n",
    "        scaler = StandardScaler()\n",
    "        X_val = scaler.fit_transform(X_val)\n",
    "\n",
    "        is_numeric = self.X.apply(lambda s: pd\n",
    "                                           .to_numeric(s, errors='coerce')\n",
    "                                           .notnull().all()\n",
    "                                 )\n",
    "        if any(res == False for res in is_numeric):\n",
    "            raise ValueError(\"Training features must be numeric\")\n",
    "\n",
    "        self.X_val = np.array(X_val,dtype='float32')\n",
    "        self.Y_val = np.array(Y_val,dtype='float32')\n",
    "        \n",
    "    def fit(self):\n",
    "\n",
    "        tqdm_callback = tfa.callbacks.TQDMProgressBar()\n",
    "\n",
    "        def build_model():\n",
    "            model = Sequential()\n",
    "            model.add(Dense(120,activation='relu'))\n",
    "            model.add(Dense(60,activation='relu'))\n",
    "            model.add(Dense(30,activation='relu'))\n",
    "            model.add(Dense(1,activation= 'sigmoid'))\n",
    "            model.compile(optimizer     = 'adam',\n",
    "                          loss          = 'binary_crossentropy',\n",
    "                          metrics       = ['accuracy'],\n",
    "                          run_eagerly   = True)\n",
    "            return model\n",
    "\n",
    "        self.model  = build_model()\n",
    "        history     = self.model.fit(self.X_val, self.Y_val,\n",
    "                            batch_size  = self.batch_size,\n",
    "                            callbacks   = [tqdm_callback],\n",
    "                            epochs      = self.epochs)\n",
    "        return history\n",
    "    \n",
    "    \n",
    "    def transform(self):\n",
    "\n",
    "        if not hasattr(self,'model'):\n",
    "            raise AttributeError(\"Transform should not be called before fit\")\n",
    "\n",
    "        scalar = StandardScaler()\n",
    "        X_val       = self.X.values.copy()\n",
    "        X_val = scalar.fit_transform(X_val)\n",
    "        predictions = self.model.predict(X_val)\n",
    "\n",
    "        transformed_dataset = ds.Dataset(\n",
    "                self.df,\n",
    "                label_names = self.dataset.label_names,\n",
    "                protected_attribute_names=self.dataset.protected_attribute_names,\n",
    "                title = self.dataset.title + ' (Classifier)',\n",
    "                predictions = predictions,\n",
    "                categorical_features = self.dataset.cat_features,\n",
    "                training_features = self.dataset.train_features,\n",
    "                model = self.model,\n",
    "                alter_dataframe = False)\n",
    "\n",
    "        return transformed_dataset"
   ]
  },
  {
   "cell_type": "code",
   "execution_count": 228,
   "metadata": {},
   "outputs": [
    {
     "data": {
      "text/plain": [
       "<tensorflow.python.keras.engine.sequential.Sequential at 0x7fbb407cd080>"
      ]
     },
     "execution_count": 228,
     "metadata": {},
     "output_type": "execute_result"
    }
   ],
   "source": [
    "ds_c_class.model"
   ]
  }
 ],
 "metadata": {
  "kernelspec": {
   "display_name": "Python 3",
   "language": "python",
   "name": "python3"
  },
  "language_info": {
   "codemirror_mode": {
    "name": "ipython",
    "version": 3
   },
   "file_extension": ".py",
   "mimetype": "text/x-python",
   "name": "python",
   "nbconvert_exporter": "python",
   "pygments_lexer": "ipython3",
   "version": "3.6.9"
  }
 },
 "nbformat": 4,
 "nbformat_minor": 4
}
